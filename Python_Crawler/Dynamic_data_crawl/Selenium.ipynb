{
 "cells": [
  {
   "cell_type": "markdown",
   "id": "2ae0938d-87e5-4eb5-98ef-82cdef793555",
   "metadata": {},
   "source": [
    "### 页面动态加载数据的爬取 Selenium\n",
    "- 借助Selenium库和浏览器驱动程序实现\n",
    "### 基本步骤\n",
    "- 创建浏览器对象\n",
    "- 选择指定的HTML文本对象\n",
    "- 执行输入和查询操作\n",
    "- 将搜索结果保存本地\n",
    "#### 以百度为例用自动化脚本实现爬取指定信息"
   ]
  },
  {
   "cell_type": "code",
   "execution_count": 4,
   "id": "ac4f1058-6f9f-4db0-96c4-eb283cd7f83a",
   "metadata": {
    "ExecuteTime": {
     "end_time": "2024-09-15T14:50:22.753564Z",
     "start_time": "2024-09-15T14:50:13.709260Z"
    }
   },
   "outputs": [
    {
     "ename": "NoSuchWindowException",
     "evalue": "Message: no such window: target window already closed\nfrom unknown error: web view not found\n  (Session info: MicrosoftEdge=128.0.2739.79)\nStacktrace:\n\tGetHandleVerifier [0x00007FF7D4FB3A22+10594]\n\tMicrosoft::Applications::Events::ILogConfiguration::operator* [0x00007FF7D4F50449+323337]\n\t(No symbol) [0x00007FF7D4D6F16E]\n\t(No symbol) [0x00007FF7D4D4AB19]\n\t(No symbol) [0x00007FF7D4DDE7CB]\n\t(No symbol) [0x00007FF7D4DF145A]\n\t(No symbol) [0x00007FF7D4DD77E3]\n\t(No symbol) [0x00007FF7D4DAB3EC]\n\t(No symbol) [0x00007FF7D4DAA8CD]\n\t(No symbol) [0x00007FF7D4DAAFB1]\n\tMicrosoft::Applications::Events::EventProperty::empty [0x00007FF7D513E4C4+918756]\n\tMicrosoft::Applications::Events::EventProperty::~EventProperty [0x00007FF7D4EDC9BF+54575]\n\tMicrosoft::Applications::Events::EventProperty::~EventProperty [0x00007FF7D4ECF557+199]\n\tMicrosoft::Applications::Events::EventProperty::empty [0x00007FF7D513D24D+914029]\n\tMicrosoft::Applications::Events::ILogConfiguration::operator* [0x00007FF7D4F57ED1+354705]\n\tMicrosoft::Applications::Events::ILogConfiguration::operator* [0x00007FF7D4F54384+339524]\n\tMicrosoft::Applications::Events::ILogConfiguration::operator* [0x00007FF7D4F544B9+339833]\n\tMicrosoft::Applications::Events::ILogConfiguration::operator* [0x00007FF7D4F4AD7C+301116]\n\tBaseThreadInitThunk [0x00007FFDD8F47374+20]\n\tRtlUserThreadStart [0x00007FFDDAA5CC91+33]\n",
     "output_type": "error",
     "traceback": [
      "\u001b[1;31m---------------------------------------------------------------------------\u001b[0m",
      "\u001b[1;31mNoSuchWindowException\u001b[0m                     Traceback (most recent call last)",
      "Cell \u001b[1;32mIn[4], line 18\u001b[0m\n\u001b[0;32m     15\u001b[0m search_box\u001b[38;5;241m.\u001b[39msend_keys(\u001b[38;5;124m'\u001b[39m\u001b[38;5;124m美少女战士\u001b[39m\u001b[38;5;124m'\u001b[39m)\n\u001b[0;32m     16\u001b[0m sleep(\u001b[38;5;241m1\u001b[39m)\n\u001b[1;32m---> 18\u001b[0m \u001b[43mbrowser\u001b[49m\u001b[38;5;241;43m.\u001b[39;49m\u001b[43mfind_element\u001b[49m\u001b[43m(\u001b[49m\u001b[43mBy\u001b[49m\u001b[38;5;241;43m.\u001b[39;49m\u001b[43mID\u001b[49m\u001b[43m,\u001b[49m\u001b[43m \u001b[49m\u001b[38;5;124;43m'\u001b[39;49m\u001b[38;5;124;43msu\u001b[39;49m\u001b[38;5;124;43m'\u001b[39;49m\u001b[43m)\u001b[49m\u001b[38;5;241m.\u001b[39mclick()  \u001b[38;5;66;03m# 按下回车键\u001b[39;00m\n\u001b[0;32m     19\u001b[0m sleep(\u001b[38;5;241m1\u001b[39m)\n\u001b[0;32m     21\u001b[0m content \u001b[38;5;241m=\u001b[39m browser\u001b[38;5;241m.\u001b[39mfind_element(By\u001b[38;5;241m.\u001b[39mID, \u001b[38;5;124m'\u001b[39m\u001b[38;5;124mcontent_left\u001b[39m\u001b[38;5;124m'\u001b[39m)\u001b[38;5;241m.\u001b[39mtext  \u001b[38;5;66;03m# 获取页面内容 #\u001b[39;00m\n",
      "File \u001b[1;32md:\\python环境变量\\Lib\\site-packages\\selenium\\webdriver\\remote\\webdriver.py:748\u001b[0m, in \u001b[0;36mWebDriver.find_element\u001b[1;34m(self, by, value)\u001b[0m\n\u001b[0;32m    745\u001b[0m     by \u001b[38;5;241m=\u001b[39m By\u001b[38;5;241m.\u001b[39mCSS_SELECTOR\n\u001b[0;32m    746\u001b[0m     value \u001b[38;5;241m=\u001b[39m \u001b[38;5;124mf\u001b[39m\u001b[38;5;124m'\u001b[39m\u001b[38;5;124m[name=\u001b[39m\u001b[38;5;124m\"\u001b[39m\u001b[38;5;132;01m{\u001b[39;00mvalue\u001b[38;5;132;01m}\u001b[39;00m\u001b[38;5;124m\"\u001b[39m\u001b[38;5;124m]\u001b[39m\u001b[38;5;124m'\u001b[39m\n\u001b[1;32m--> 748\u001b[0m \u001b[38;5;28;01mreturn\u001b[39;00m \u001b[38;5;28;43mself\u001b[39;49m\u001b[38;5;241;43m.\u001b[39;49m\u001b[43mexecute\u001b[49m\u001b[43m(\u001b[49m\u001b[43mCommand\u001b[49m\u001b[38;5;241;43m.\u001b[39;49m\u001b[43mFIND_ELEMENT\u001b[49m\u001b[43m,\u001b[49m\u001b[43m \u001b[49m\u001b[43m{\u001b[49m\u001b[38;5;124;43m\"\u001b[39;49m\u001b[38;5;124;43musing\u001b[39;49m\u001b[38;5;124;43m\"\u001b[39;49m\u001b[43m:\u001b[49m\u001b[43m \u001b[49m\u001b[43mby\u001b[49m\u001b[43m,\u001b[49m\u001b[43m \u001b[49m\u001b[38;5;124;43m\"\u001b[39;49m\u001b[38;5;124;43mvalue\u001b[39;49m\u001b[38;5;124;43m\"\u001b[39;49m\u001b[43m:\u001b[49m\u001b[43m \u001b[49m\u001b[43mvalue\u001b[49m\u001b[43m}\u001b[49m\u001b[43m)\u001b[49m[\u001b[38;5;124m\"\u001b[39m\u001b[38;5;124mvalue\u001b[39m\u001b[38;5;124m\"\u001b[39m]\n",
      "File \u001b[1;32md:\\python环境变量\\Lib\\site-packages\\selenium\\webdriver\\remote\\webdriver.py:354\u001b[0m, in \u001b[0;36mWebDriver.execute\u001b[1;34m(self, driver_command, params)\u001b[0m\n\u001b[0;32m    352\u001b[0m response \u001b[38;5;241m=\u001b[39m \u001b[38;5;28mself\u001b[39m\u001b[38;5;241m.\u001b[39mcommand_executor\u001b[38;5;241m.\u001b[39mexecute(driver_command, params)\n\u001b[0;32m    353\u001b[0m \u001b[38;5;28;01mif\u001b[39;00m response:\n\u001b[1;32m--> 354\u001b[0m     \u001b[38;5;28;43mself\u001b[39;49m\u001b[38;5;241;43m.\u001b[39;49m\u001b[43merror_handler\u001b[49m\u001b[38;5;241;43m.\u001b[39;49m\u001b[43mcheck_response\u001b[49m\u001b[43m(\u001b[49m\u001b[43mresponse\u001b[49m\u001b[43m)\u001b[49m\n\u001b[0;32m    355\u001b[0m     response[\u001b[38;5;124m\"\u001b[39m\u001b[38;5;124mvalue\u001b[39m\u001b[38;5;124m\"\u001b[39m] \u001b[38;5;241m=\u001b[39m \u001b[38;5;28mself\u001b[39m\u001b[38;5;241m.\u001b[39m_unwrap_value(response\u001b[38;5;241m.\u001b[39mget(\u001b[38;5;124m\"\u001b[39m\u001b[38;5;124mvalue\u001b[39m\u001b[38;5;124m\"\u001b[39m, \u001b[38;5;28;01mNone\u001b[39;00m))\n\u001b[0;32m    356\u001b[0m     \u001b[38;5;28;01mreturn\u001b[39;00m response\n",
      "File \u001b[1;32md:\\python环境变量\\Lib\\site-packages\\selenium\\webdriver\\remote\\errorhandler.py:229\u001b[0m, in \u001b[0;36mErrorHandler.check_response\u001b[1;34m(self, response)\u001b[0m\n\u001b[0;32m    227\u001b[0m         alert_text \u001b[38;5;241m=\u001b[39m value[\u001b[38;5;124m\"\u001b[39m\u001b[38;5;124malert\u001b[39m\u001b[38;5;124m\"\u001b[39m]\u001b[38;5;241m.\u001b[39mget(\u001b[38;5;124m\"\u001b[39m\u001b[38;5;124mtext\u001b[39m\u001b[38;5;124m\"\u001b[39m)\n\u001b[0;32m    228\u001b[0m     \u001b[38;5;28;01mraise\u001b[39;00m exception_class(message, screen, stacktrace, alert_text)  \u001b[38;5;66;03m# type: ignore[call-arg]  # mypy is not smart enough here\u001b[39;00m\n\u001b[1;32m--> 229\u001b[0m \u001b[38;5;28;01mraise\u001b[39;00m exception_class(message, screen, stacktrace)\n",
      "\u001b[1;31mNoSuchWindowException\u001b[0m: Message: no such window: target window already closed\nfrom unknown error: web view not found\n  (Session info: MicrosoftEdge=128.0.2739.79)\nStacktrace:\n\tGetHandleVerifier [0x00007FF7D4FB3A22+10594]\n\tMicrosoft::Applications::Events::ILogConfiguration::operator* [0x00007FF7D4F50449+323337]\n\t(No symbol) [0x00007FF7D4D6F16E]\n\t(No symbol) [0x00007FF7D4D4AB19]\n\t(No symbol) [0x00007FF7D4DDE7CB]\n\t(No symbol) [0x00007FF7D4DF145A]\n\t(No symbol) [0x00007FF7D4DD77E3]\n\t(No symbol) [0x00007FF7D4DAB3EC]\n\t(No symbol) [0x00007FF7D4DAA8CD]\n\t(No symbol) [0x00007FF7D4DAAFB1]\n\tMicrosoft::Applications::Events::EventProperty::empty [0x00007FF7D513E4C4+918756]\n\tMicrosoft::Applications::Events::EventProperty::~EventProperty [0x00007FF7D4EDC9BF+54575]\n\tMicrosoft::Applications::Events::EventProperty::~EventProperty [0x00007FF7D4ECF557+199]\n\tMicrosoft::Applications::Events::EventProperty::empty [0x00007FF7D513D24D+914029]\n\tMicrosoft::Applications::Events::ILogConfiguration::operator* [0x00007FF7D4F57ED1+354705]\n\tMicrosoft::Applications::Events::ILogConfiguration::operator* [0x00007FF7D4F54384+339524]\n\tMicrosoft::Applications::Events::ILogConfiguration::operator* [0x00007FF7D4F544B9+339833]\n\tMicrosoft::Applications::Events::ILogConfiguration::operator* [0x00007FF7D4F4AD7C+301116]\n\tBaseThreadInitThunk [0x00007FFDD8F47374+20]\n\tRtlUserThreadStart [0x00007FFDDAA5CC91+33]\n"
     ]
    }
   ],
   "source": [
    "from selenium.webdriver.common.by import By\n",
    "from selenium import webdriver\n",
    "from time import sleep\n",
    "\n",
    "url = 'https://www.baidu.com/'\n",
    "\n",
    "browser = webdriver.Edge()  # 创建浏览器对象 #\n",
    "sleep(1)\n",
    "\n",
    "browser.get(url)  # 前往指定网址 #\n",
    "search_box = browser.find_element(By.ID, 'kw')  # 定位网页中id为kw的元素，即百度搜索输入框\n",
    "search_box.clear()  # 清空输入框\n",
    "sleep(1)\n",
    "\n",
    "search_box.send_keys('美少女战士')\n",
    "sleep(1)\n",
    "\n",
    "browser.find_element(By.ID, 'su').click()  # 按下回车键\n",
    "sleep(1)\n",
    "\n",
    "content = browser.find_element(By.ID, 'content_left').text  # 获取页面内容 #\n",
    "print(content.split())\n",
    "\n",
    "browser.quit()  # 关闭浏览器 #"
   ]
  },
  {
   "cell_type": "code",
   "execution_count": null,
   "id": "8d39c11c-c1fe-4e7d-b4d0-d1d3d0611d4c",
   "metadata": {},
   "outputs": [],
   "source": []
  }
 ],
 "metadata": {
  "kernelspec": {
   "display_name": "Python 3 (ipykernel)",
   "language": "python",
   "name": "python3"
  },
  "language_info": {
   "codemirror_mode": {
    "name": "ipython",
    "version": 3
   },
   "file_extension": ".py",
   "mimetype": "text/x-python",
   "name": "python",
   "nbconvert_exporter": "python",
   "pygments_lexer": "ipython3",
   "version": "3.12.1"
  }
 },
 "nbformat": 4,
 "nbformat_minor": 5
}
