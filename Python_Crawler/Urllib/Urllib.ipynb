{
 "cells": [
  {
   "cell_type": "markdown",
   "id": "fe876e80-ccd2-4f6f-9113-13181b6b6e7a",
   "metadata": {},
   "source": [
    "### 爬虫框架 Urllib\n",
    "- Python原生的爬虫模块\n",
    "- 用于模拟浏览器发送请求并获取数据\n",
    "- 基本步骤：\n",
    "  - 指定URL\n",
    "  - 发送请求\n",
    "  - 获取响应数据\n",
    "  - 存储数据库"
   ]
  },
  {
   "cell_type": "code",
   "execution_count": 1,
   "id": "3a48bf2c-dab1-4e42-a81c-8baf91e6cfbd",
   "metadata": {},
   "outputs": [
    {
     "name": "stdout",
     "output_type": "stream",
     "text": [
      "Save Success\n"
     ]
    }
   ],
   "source": [
    "import urllib.request\n",
    "\n",
    "url = 'https://www.sougou.com/'  # 指定URL #\n",
    "response = urllib.request.urlopen(url = url)\n",
    "page_text = response.read()  # 读取网页数据 返回值为 bytes类型 #\n",
    "with open('./Save_files/Sougou.html', 'wb') as fp:\n",
    "    fp.write(page_text)  # 存储本地文件 # \n",
    "    print('Save Success')"
   ]
  },
  {
   "cell_type": "markdown",
   "id": "ce860c51-0cac-423f-8768-d6ae0c4866a5",
   "metadata": {},
   "source": [
    "### 反爬机制 UA检查\n",
    "- User-Agent（UA）：请求载体的身份标识\n",
    "- 反反爬机制：自定义虚拟UA来创建请求对象\n",
    "#### 以搜狗搜索引擎为例模拟浏览器发送不同内容的POST请求"
   ]
  },
  {
   "cell_type": "code",
   "execution_count": 3,
   "id": "9b18546b-2086-4995-b623-caa16bf26be1",
   "metadata": {},
   "outputs": [
    {
     "name": "stdin",
     "output_type": "stream",
     "text": [
      "What are you search?  苏州\n"
     ]
    },
    {
     "name": "stdout",
     "output_type": "stream",
     "text": [
      "Save Success\n"
     ]
    }
   ],
   "source": [
    "import urllib.request\n",
    "import urllib.parse\n",
    "\n",
    "url = 'https://www.sogou.com/web?query='\n",
    "search = input('What are you search? ')  # 询问搜索内容 #\n",
    "target = urllib.parse.quote(search)  # quote()用于对字符串编码 返回类型为字符串 #\n",
    "url += target  # 拼接URL #\n",
    "\n",
    "headers = {  # 设置请求头 #\n",
    "    'User-Agent': 'Mozilla/5.0 (Windows NT 10.0; Win64; x64) AppleWebKit/537.36 (KHTML, like Gecko) Chrome/128.0.0.0 Safari/537.36 Edg/128.0.0.0'\n",
    "}\n",
    "request = urllib.request.Request(url = url, headers = headers)  # 自定义请求对象 #\n",
    "response = urllib.request.urlopen(request)\n",
    "page_text = response.read()\n",
    "text_name = './Save_files/Sougou_' + search + '.html'  # 本地文件名 #\n",
    "with open(text_name, 'wb') as fp:\n",
    "    fp.write(page_text)  # 存储本地文件 # \n",
    "    print('Save Success')\n"
   ]
  },
  {
   "cell_type": "markdown",
   "id": "74aa260b-4381-4b22-925c-2b4733bef83e",
   "metadata": {},
   "source": [
    "### 爬取指定请求内容\n",
    "- 发送POST请求携带自定义内容\n",
    "#### 以百度翻译为例自定义翻译内容并爬取结果"
   ]
  },
  {
   "cell_type": "code",
   "execution_count": 6,
   "id": "c803d6f1-e262-4363-9d49-15acba0f6b85",
   "metadata": {},
   "outputs": [
    {
     "name": "stdin",
     "output_type": "stream",
     "text": [
      "What are you search?  草莓\n"
     ]
    },
    {
     "name": "stdout",
     "output_type": "stream",
     "text": [
      "b'{\"errno\":0,\"data\":[{\"k\":\"\\\\u8349\\\\u8393\",\"v\":\"[\\\\u690d] strawberry \\\\uff08\\\\u8349\\\\u8393\\\\u5c5e Fragaria \\\\u690d\\\\u7269\\\\u7684\\\\u6cdb\\\\u79f0\\\\uff09\"},{\"k\":\"\\\\u8349\\\\u8393\\\\u6c41\",\"v\":\"strawberry juice\"},{\"k\":\"\\\\u8349\\\\u8393\\\\u9171\",\"v\":\"strawberry jam\"},{\"k\":\"\\\\u8349\\\\u8393\\\\u5976\\\\u6614\",\"v\":\"\\\\u540d. Strawberry Shake\"},{\"k\":\"\\\\u8349\\\\u8393\\\\u5976\\\\u8336\",\"v\":\"Strawberry Milk Tea\"}],\"logid\":2869144086}'\n"
     ]
    }
   ],
   "source": [
    "import urllib.request\n",
    "import urllib.parse\n",
    "\n",
    "url = 'https://fanyi.baidu.com/sug'\n",
    "word = input('What are you search? ')\n",
    "\n",
    "data = {  # 自定义POST请求参数内容 #\n",
    "    'kw': word\n",
    "}\n",
    "data = urllib.parse.urlencode(data)  # urlencode()用于对字典编码 返回类型为字符串 #\n",
    "data = data.encode()  # 把字符串转换为 bytes类型 #\n",
    "response = urllib.request.urlopen(url = url, data = data)\n",
    "page_text = response.read()  # 读取网页数据 返回值为 bytes类型 #\n",
    "print(page_text)"
   ]
  },
  {
   "cell_type": "code",
   "execution_count": null,
   "id": "de1a2084-6896-4026-a501-0700fe32c481",
   "metadata": {},
   "outputs": [],
   "source": []
  }
 ],
 "metadata": {
  "kernelspec": {
   "display_name": "Python 3 (ipykernel)",
   "language": "python",
   "name": "python3"
  },
  "language_info": {
   "codemirror_mode": {
    "name": "ipython",
    "version": 3
   },
   "file_extension": ".py",
   "mimetype": "text/x-python",
   "name": "python",
   "nbconvert_exporter": "python",
   "pygments_lexer": "ipython3",
   "version": "3.12.1"
  }
 },
 "nbformat": 4,
 "nbformat_minor": 5
}
