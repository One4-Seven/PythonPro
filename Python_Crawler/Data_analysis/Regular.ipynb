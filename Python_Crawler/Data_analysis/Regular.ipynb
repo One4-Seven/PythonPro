{
 "cells": [
  {
   "cell_type": "markdown",
   "id": "74942a9e-82ff-4781-86ec-8b5a8c23b1d5",
   "metadata": {},
   "source": [
    "### 数据解析 RE\n",
    "- 基本步骤：\n",
    "  - 指定URL\n",
    "  - 发送请求\n",
    "  - 获取响应数据\n",
    "  - 解析数据（正则表达式）\n",
    "  - 存储数据库\n",
    "#### 简单回顾下正则表达式的匹配方式"
   ]
  },
  {
   "cell_type": "code",
   "execution_count": 2,
   "id": "fd56d6d3-6c69-4793-9c17-f0ac7ed2bde7",
   "metadata": {},
   "outputs": [],
   "source": [
    "import re"
   ]
  },
  {
   "cell_type": "code",
   "execution_count": 5,
   "id": "548f882c-4881-4d80-9167-611031ea0faa",
   "metadata": {},
   "outputs": [
    {
     "name": "stdout",
     "output_type": "stream",
     "text": [
      "Hello, World!\n"
     ]
    }
   ],
   "source": [
    "pattern = \".*\"\n",
    "text = \"Hello, World!\"\n",
    "result = re.match(pattern, text)\n",
    "print(result.group())"
   ]
  },
  {
   "cell_type": "code",
   "execution_count": 6,
   "id": "4b437b8b-875c-4a32-990b-2718dc729fee",
   "metadata": {},
   "outputs": [
    {
     "name": "stdout",
     "output_type": "stream",
     "text": [
      "['123', '456']\n"
     ]
    }
   ],
   "source": [
    "pattern = r'\\d+'  # 匹配一个或多个数字 #\n",
    "result = re.findall(pattern, 'abc123def456')\n",
    "print(result)"
   ]
  },
  {
   "cell_type": "code",
   "execution_count": 7,
   "id": "dac4d2a1-961b-42c0-88f3-6a2ede8bf583",
   "metadata": {},
   "outputs": [
    {
     "name": "stdout",
     "output_type": "stream",
     "text": [
      "['H', 'e', 'l', 'l', 'o', 'W', 'o', 'r', 'l', 'd']\n"
     ]
    }
   ],
   "source": [
    "pattern = r'[a-zA-Z]'  # 匹配任意一个英文字母（不区分大小写） #\n",
    "text = 'Hello, World! 123'\n",
    " \n",
    "matches = re.findall(pattern, text)\n",
    "print(matches)"
   ]
  },
  {
   "cell_type": "code",
   "execution_count": 8,
   "id": "090b22f3-315c-4dd1-a2d0-c9ff7182968c",
   "metadata": {},
   "outputs": [
    {
     "name": "stdout",
     "output_type": "stream",
     "text": [
      "['AbCdEfGhIjKl']\n"
     ]
    }
   ],
   "source": [
    "pattern = re.compile(r'[a-z]+', re.IGNORECASE)  # 匹配一个或多个字母的正则表达式，忽略大小写 #\n",
    "result = pattern.findall('AbCdEfGhIjKl')\n",
    "print(result)"
   ]
  },
  {
   "cell_type": "code",
   "execution_count": 11,
   "id": "b5403bb6-24aa-4851-8dcb-40fa4487c96b",
   "metadata": {},
   "outputs": [
    {
     "name": "stdout",
     "output_type": "stream",
     "text": [
      "['cat', 'hat', 'rat']\n"
     ]
    }
   ],
   "source": [
    "pattern = re.compile(r'.at')  # 编译一个匹配以任意字符后跟\"at\"的正则表达式 #\n",
    "result = pattern.findall('cat, hat, rat')\n",
    "print(result)"
   ]
  },
  {
   "cell_type": "code",
   "execution_count": 12,
   "id": "5b1c9df1-8116-4628-8c24-41a4eb2a0c6b",
   "metadata": {},
   "outputs": [
    {
     "name": "stdout",
     "output_type": "stream",
     "text": [
      "['line', 'line', 'line']\n"
     ]
    }
   ],
   "source": [
    "text = '''first line\n",
    "second line\n",
    "third line'''\n",
    "pattern = re.compile(r'line$', re.MULTILINE)  # 编译一个匹配以\"line\"结尾的行的正则表达式，忽略换行符 #\n",
    "result = pattern.findall(text)\n",
    "print(result)"
   ]
  },
  {
   "cell_type": "code",
   "execution_count": 13,
   "id": "335b3839-d91f-4cbe-a16c-e7a57365f0b3",
   "metadata": {},
   "outputs": [
    {
     "name": "stdout",
     "output_type": "stream",
     "text": [
      "['so', 'so', 'so']\n"
     ]
    }
   ],
   "source": [
    "text = '''so much\n",
    "so hot\n",
    "so beautiful\n",
    "'''\n",
    "pattern = re.compile(r'^so', re.MULTILINE)  # 编译一个匹配以\"so\"开头的行的正则表达式，忽略换行符 #\n",
    "result = pattern.findall(text)\n",
    "print(result)"
   ]
  },
  {
   "cell_type": "code",
   "execution_count": 14,
   "id": "04f805dc-2bfb-4f95-8e51-9d1062c96e1c",
   "metadata": {},
   "outputs": [
    {
     "name": "stdout",
     "output_type": "stream",
     "text": [
      "['word', 'word']\n"
     ]
    }
   ],
   "source": [
    "pattern = re.compile(r'\\bword\\b')  # 匹配完整单词\"word\"的正则表达式 #\n",
    "result = pattern.findall('hello word, word!')\n",
    "print(result)"
   ]
  },
  {
   "cell_type": "code",
   "execution_count": 15,
   "id": "27ce01c9-9dcf-4836-bab2-39fddfd71d71",
   "metadata": {},
   "outputs": [
    {
     "name": "stdout",
     "output_type": "stream",
     "text": [
      "['hello', 'world', 'python']\n"
     ]
    }
   ],
   "source": [
    "pattern = r'\\s+'  # 匹配一个或多个空白字符 #\n",
    "result = re.split(pattern, 'hello world python')\n",
    "print(result)"
   ]
  },
  {
   "cell_type": "code",
   "execution_count": 17,
   "id": "7cf4288a-2796-4104-9e92-0aaf993b7538",
   "metadata": {},
   "outputs": [
    {
     "name": "stdout",
     "output_type": "stream",
     "text": [
      "abc***def***\n"
     ]
    }
   ],
   "source": [
    "pattern = r'\\d+'  # 匹配一个或多个数字 #\n",
    "replacement = '***'\n",
    "result = re.sub(pattern, replacement, 'abc123def456')\n",
    "print(result)"
   ]
  },
  {
   "cell_type": "code",
   "execution_count": 19,
   "id": "a97d39bc-e01b-4089-ad0a-796ac7b7e18c",
   "metadata": {},
   "outputs": [
    {
     "name": "stdout",
     "output_type": "stream",
     "text": [
      "['a', 'b', 'b']\n"
     ]
    }
   ],
   "source": [
    "pattern = \"a|b\"  # 匹配a或b #\n",
    "text = \"appbleb\"\n",
    "result = re.findall(pattern, text)\n",
    "print(result)"
   ]
  },
  {
   "cell_type": "markdown",
   "id": "d9ad8386-6cb3-4ab9-b3f1-970c666f2f3a",
   "metadata": {},
   "source": [
    "### 以南京审计大学为例爬取主页面中的图片\n",
    "- 设置目标网址URL\n",
    "- 通过数据解析获取HTML文件中的指定字段\n",
    "- 爬取数据并存储本地|"
   ]
  },
  {
   "cell_type": "code",
   "execution_count": 28,
   "id": "924351e7-9438-4ea5-ab76-3091caf2d5fc",
   "metadata": {},
   "outputs": [
    {
     "name": "stdout",
     "output_type": "stream",
     "text": [
      "Save Success\n"
     ]
    }
   ],
   "source": [
    "import re\n",
    "import os\n",
    "import requests\n",
    "\n",
    "url = 'https://www.nau.edu.cn/_t1096/main.psp'\n",
    "headers = {  # 设置请求头 #\n",
    "    'User-Agent': 'Mozilla/5.0 (Windows NT 10.0; Win64; x64) AppleWebKit/537.36 (KHTML, like Gecko) Chrome/128.0.0.0 Safari/537.36 Edg/128.0.0.0'\n",
    "}\n",
    "page_text = requests.get(url = url, headers = headers).text\n",
    "\n",
    "imgs_list = re.findall('<img alt=.*?src=\"(.*?)\".*?>', page_text, re.S)  # 通过数据解析获取图片地址 #\n",
    "if not os.path.exists('./NAU_imgs'):  # 创建文件夹 #\n",
    "    os.mkdir('NAU_imgs')\n",
    "for img in imgs_list:\n",
    "    img_url = 'https://www.nau.edu.cn/' + img  # 处理图片地址 #\n",
    "    img_text = requests.get(url = img_url, headers = headers).content\n",
    "    img_name = img.split('/')[-1]  # 处理文件名 #\n",
    "    img_path = 'NAU_imgs/' + img_name  # 本地存储地址 #\n",
    "    with open(img_path, 'wb') as fp:\n",
    "        fp.write(img_text)\n",
    "\n",
    "print('Save Success')"
   ]
  }
 ],
 "metadata": {
  "kernelspec": {
   "display_name": "Python 3 (ipykernel)",
   "language": "python",
   "name": "python3"
  },
  "language_info": {
   "codemirror_mode": {
    "name": "ipython",
    "version": 3
   },
   "file_extension": ".py",
   "mimetype": "text/x-python",
   "name": "python",
   "nbconvert_exporter": "python",
   "pygments_lexer": "ipython3",
   "version": "3.12.1"
  }
 },
 "nbformat": 4,
 "nbformat_minor": 5
}
