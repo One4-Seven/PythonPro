{
 "cells": [
  {
   "cell_type": "markdown",
   "id": "2ebcf209-7a6b-4a1b-8306-d16d13eba8d1",
   "metadata": {},
   "source": [
    "### 数据解析 Xpath\n",
    "- 基本步骤：\n",
    "  - 指定URL\n",
    "  - 发送请求\n",
    "  - 获取响应数据\n",
    "  - 解析数据（Xpath表达式）\n",
    "  - 存储数据库\n",
    "\n",
    "### Xpath在爬虫中的使用流程\n",
    "- 创建etree对象进行指定数据的解析\n",
    "  - 本地：etree = etree.parse（本地文件路径）\n",
    "  - 网络：etree = etree.HTML（网络请求到的页面数据）"
   ]
  },
  {
   "cell_type": "code",
   "execution_count": 7,
   "id": "750c3d2e-5ef0-41f6-9e80-b58b828023f7",
   "metadata": {},
   "outputs": [
    {
     "name": "stdout",
     "output_type": "stream",
     "text": [
      "['link1.html', 'link2.html', 'link3.html', 'link4.html', 'link5.html']\n",
      "['first item', 'second item', 'third item', 'fourth item', 'fifth item']\n"
     ]
    }
   ],
   "source": [
    "from lxml import etree\n",
    "\n",
    "web_data = \"\"\"\n",
    "        <div>\n",
    "            <ul>\n",
    "                 <li class=\"item-0\"><a href=\"link1.html\">first item</a></li>\n",
    "                 <li class=\"item-1\"><a href=\"link2.html\">second item</a></li>\n",
    "                 <li class=\"item-inactive\"><a href=\"link3.html\">third item</a></li>\n",
    "                 <li class=\"item-1\"><a href=\"link4.html\">fourth item</a></li>\n",
    "                 <li class=\"item-0\"><a href=\"link5.html\">fifth item</a>\n",
    "             </ul>\n",
    "         </div>\n",
    "        \"\"\"\n",
    "element = etree.HTML(web_data)\n",
    "links = element.xpath('//ul/li/a/@href')  # 获取li标签下面的a标签的href #\n",
    "print(links)\n",
    "result = element.xpath('//ul/li/a/text()')  # 获取li标签下面的a标签的文本数据 #\n",
    "print(result)"
   ]
  },
  {
   "cell_type": "markdown",
   "id": "d7ae359f-2f1d-4b18-adb5-9d715f60fcb9",
   "metadata": {},
   "source": [
    "### 以豆瓣网为例爬取电影排名的详情\n",
    "#### 目标和需求\n",
    "- 熟悉Xpath解析数的方式\n",
    "- 爬取电影的名称 评分 引言 详情页的URL 翻页爬取1-10页 保存到列表中\n",
    "\n",
    "#### 如何实现?\n",
    "- 设计技术与需要的库 Requests lxml（etree）\n",
    "\n",
    "#### 实现步骤\n",
    "- 页面分析(一般讲数据解析模块 都是静态页面)\n",
    "  - 通过观察看网页源代码中是否有我们想要的数据\n",
    "    - 如果有就分析这个URL\n",
    "    - 如果没有再通过Ajax寻找接口   \n",
    "  - 通过分析数据在网页源代码中确定目标url\n",
    "    - https：//movie.douban.com/top250?start=0&filter= 第一页\n",
    "    - 通过页面分析发现所有我们想要的数据都在一个div[class=\"info\"]里面\n",
    "\n",
    "#### 具体实现步骤\n",
    "- 获取整个网页的源码(HTML)\n",
    "- 将获取的数据源码转成一个element对象（XML）\n",
    "- 通过Element对象实现Xpath语法 对数据进行爬取（标题 评分 引言 详情页的URL）\n",
    "- 保存数据 先保存到字典中然后保存到列表中"
   ]
  },
  {
   "cell_type": "code",
   "execution_count": 16,
   "id": "5f2347b6-6a10-4ac8-8711-bdceb24bb8cd",
   "metadata": {},
   "outputs": [
    {
     "name": "stdout",
     "output_type": "stream",
     "text": [
      "Save Success\n"
     ]
    }
   ],
   "source": [
    "import requests\n",
    "from lxml import etree\n",
    "\n",
    "def getsource(pagelink):  # 定义一个函数用来获取网页源代码 #\n",
    "    # 请求头\n",
    "    headers = {\n",
    "        'User-Agent': 'Mozilla/5.0 (Windows NT 10.0; Win64; x64) AppleWebKit/537.36 (KHTML, like Gecko) Chrome/103.0.0.0 Safari/537.36'\n",
    "    }\n",
    "    response = requests.get(pagelink, headers=headers)\n",
    "    html = response.text\n",
    "    return html\n",
    " \n",
    "def geteveryitem(html):  # 定义一个函数用于解析我们的网页源代码并获取我们想要的数据 #\n",
    "    element = etree.HTML(html)\n",
    "    movieitemlist = element.xpath('//li//div[@class=\"info\"]')  # 拿到[class=\"info\"]的所有div #\n",
    "    itemlist = []\n",
    "    for item in movieitemlist:\n",
    "        itemdict = {}\n",
    "        \n",
    "        title = item.xpath('./div[@class=\"hd\"]/a/span[@class=\"title\"]/text()')  # 标题 #\n",
    "        title = \"\".join(title).replace(\"\\xa0\", \"\")\n",
    "        \n",
    "        othertitle = item.xpath('./div[@class=\"hd\"]/a/span[@class=\"other\"]/text()')[0].replace(\"\\xa0\", \"\") # 副标题 #\n",
    "        \n",
    "        grade = item.xpath('./div[@class=\"bd\"]/div[@class=\"star\"]/span[2]/text()')[0]  # 评分 #\n",
    "        \n",
    "        link = item.xpath('div[@class=\"hd\"]/a/@href')[0]  # 详情页的url #\n",
    "        \n",
    "        quote = item.xpath('div[@class=\"bd\"]/p[@class=\"quote\"]/span/text()')  # 引言 #\n",
    "       \n",
    "        if quote:  # 非空处理 #\n",
    "            quote = quote[0]\n",
    "        else:\n",
    "            quote = \"\"\n",
    "        \n",
    "        itemdict['title'] = ''.join(title + othertitle)  # 将数据存放到字典中 #\n",
    "        itemdict['grade'] = grade\n",
    "        itemdict['link'] = link\n",
    "        itemdict['quote'] = quote\n",
    "        \n",
    "        itemlist.append(itemdict)\n",
    "    return itemlist\n",
    " \n",
    " \n",
    "if __name__ == '__main__':\n",
    "    url = 'https://movie.douban.com/top250?start=0&filter='\n",
    "    html = getsource(url)\n",
    "    itemlist = geteveryitem(html)\n",
    "    text = ''\n",
    "    for item in itemlist:\n",
    "       text += str(item)\n",
    "    with open('./Save_files/Movie_list.txt', 'w', encoding = 'UTF-8') as fp:  # 本地化存储 #\n",
    "        fp.write(text)\n",
    "    print('Save Success')"
   ]
  },
  {
   "cell_type": "code",
   "execution_count": null,
   "id": "a0ff4f85-45c3-4078-b09e-a44adbcc7ef2",
   "metadata": {},
   "outputs": [],
   "source": []
  }
 ],
 "metadata": {
  "kernelspec": {
   "display_name": "Python 3 (ipykernel)",
   "language": "python",
   "name": "python3"
  },
  "language_info": {
   "codemirror_mode": {
    "name": "ipython",
    "version": 3
   },
   "file_extension": ".py",
   "mimetype": "text/x-python",
   "name": "python",
   "nbconvert_exporter": "python",
   "pygments_lexer": "ipython3",
   "version": "3.12.1"
  }
 },
 "nbformat": 4,
 "nbformat_minor": 5
}
