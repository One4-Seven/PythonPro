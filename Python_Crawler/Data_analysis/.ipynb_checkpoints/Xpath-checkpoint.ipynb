{
 "cells": [
  {
   "cell_type": "markdown",
   "id": "2ebcf209-7a6b-4a1b-8306-d16d13eba8d1",
   "metadata": {},
   "source": [
    "### 数据解析 Xpath\n",
    "- 基本步骤：\n",
    "  - 指定URL\n",
    "  - 发送请求\n",
    "  - 获取响应数据\n",
    "  - 解析数据（Xpath表达式）\n",
    "  - 存储数据库\n",
    "\n",
    "### Xpath在爬虫中的使用流程\n",
    "- 创建etree对象进行指定数据的解析\n",
    "  - 本地：etree = etree.parse（本地文件路径）\n",
    "  - 网络：etree = etree.HTML（网络请求到的页面数据）"
   ]
  },
  {
   "cell_type": "code",
   "execution_count": 7,
   "id": "750c3d2e-5ef0-41f6-9e80-b58b828023f7",
   "metadata": {},
   "outputs": [
    {
     "name": "stdout",
     "output_type": "stream",
     "text": [
      "['link1.html', 'link2.html', 'link3.html', 'link4.html', 'link5.html']\n",
      "['first item', 'second item', 'third item', 'fourth item', 'fifth item']\n"
     ]
    }
   ],
   "source": [
    "from lxml import etree\n",
    "\n",
    "web_data = \"\"\"\n",
    "        <div>\n",
    "            <ul>\n",
    "                 <li class=\"item-0\"><a href=\"link1.html\">first item</a></li>\n",
    "                 <li class=\"item-1\"><a href=\"link2.html\">second item</a></li>\n",
    "                 <li class=\"item-inactive\"><a href=\"link3.html\">third item</a></li>\n",
    "                 <li class=\"item-1\"><a href=\"link4.html\">fourth item</a></li>\n",
    "                 <li class=\"item-0\"><a href=\"link5.html\">fifth item</a>\n",
    "             </ul>\n",
    "         </div>\n",
    "        \"\"\"\n",
    "element = etree.HTML(web_data)\n",
    "links = element.xpath('//ul/li/a/@href')  # 获取li标签下面的a标签的href #\n",
    "print(links)\n",
    "result = element.xpath('//ul/li/a/text()')  # 获取li标签下面的a标签的文本数据 #\n",
    "print(result)"
   ]
  },
  {
   "cell_type": "markdown",
   "id": "d7ae359f-2f1d-4b18-adb5-9d715f60fcb9",
   "metadata": {},
   "source": [
    "### 以爬取豆瓣网为例爬取电影排名的详情\n",
    "#### 目标和需求\n",
    "- 熟悉Xpath解析数的方式\n",
    "- 爬取电影的名称 评分 引言 详情页的URL 翻页爬取1-10页 保存到列表中\n",
    "\n",
    "#### 如何实现?\n",
    "- 设计技术与需要的库 Requests lxml（etree）\n",
    "\n",
    "#### 实现步骤\n",
    "- 页面分析(一般讲数据解析模块 都是静态页面)\n",
    "  - 通过观察看网页源代码中是否有我们想要的数据\n",
    "    - 如果有就分析这个URL\n",
    "    - 如果没有再通过Ajax寻找接口   \n",
    "  - 通过分析数据在网页源代码中确定目标url\n",
    "    - https：//movie.douban.com/top250?start=0&filter= 第一页\n",
    "    - 通过页面分析发现所有我们想要的数据都在一个div[class=\"info\"]里面\n",
    "\n",
    "#### 具体实现步骤\n",
    "- 获取整个网页的源码(HTML)\n",
    "- 将获取的数据源码转成一个element对象（XML）\n",
    "- 通过Element对象实现Xpath语法 对数据进行爬取（标题 评分 引言 详情页的URL）\n",
    "- 保存数据 先保存到字典中然后保存到列表中"
   ]
  },
  {
   "cell_type": "code",
   "execution_count": 14,
   "id": "5f2347b6-6a10-4ac8-8711-bdceb24bb8cd",
   "metadata": {},
   "outputs": [
    {
     "name": "stdout",
     "output_type": "stream",
     "text": [
      "{'title': '肖申克的救赎/The Shawshank Redemption/月黑高飞(港)  /  刺激1995(台)', 'grade': '9.7', 'link': 'https://movie.douban.com/subject/1292052/', 'quote': '希望让人自由。'}{'title': '霸王别姬/再见，我的妾  /  Farewell My Concubine', 'grade': '9.6', 'link': 'https://movie.douban.com/subject/1291546/', 'quote': '风华绝代。'}{'title': '阿甘正传/Forrest Gump/福雷斯特·冈普', 'grade': '9.5', 'link': 'https://movie.douban.com/subject/1292720/', 'quote': '一部美国近现代史。'}{'title': '泰坦尼克号/Titanic/铁达尼号(港 / 台)', 'grade': '9.5', 'link': 'https://movie.douban.com/subject/1292722/', 'quote': '失去的才是永恒的。 '}{'title': '千与千寻/千と千尋の神隠し/神隐少女(台)  /  千与千寻的神隐', 'grade': '9.4', 'link': 'https://movie.douban.com/subject/1291561/', 'quote': '最好的宫崎骏，最好的久石让。 '}{'title': '这个杀手不太冷/Léon/终极追杀令(台)  /  杀手莱昂', 'grade': '9.4', 'link': 'https://movie.douban.com/subject/1295644/', 'quote': '怪蜀黍和小萝莉不得不说的故事。'}{'title': '美丽人生/La vita è bella/一个快乐的传说(港)  /  Life Is Beautiful', 'grade': '9.5', 'link': 'https://movie.douban.com/subject/1292063/', 'quote': '最美的谎言。'}{'title': '星际穿越/Interstellar/星际启示录(港)  /  星际效应(台)', 'grade': '9.4', 'link': 'https://movie.douban.com/subject/1889243/', 'quote': '爱是一种力量，让我们超越时空感知它的存在。'}{'title': '盗梦空间/Inception/潜行凶间(港)  /  全面启动(台)', 'grade': '9.4', 'link': 'https://movie.douban.com/subject/3541415/', 'quote': '诺兰给了我们一场无法盗取的梦。'}{'title': '楚门的世界/The Truman Show/真人Show(港)  /  真人戏', 'grade': '9.4', 'link': 'https://movie.douban.com/subject/1292064/', 'quote': '如果再也不能见到你，祝你早安，午安，晚安。'}{'title': \"辛德勒的名单/Schindler's List/舒特拉的名单(港)  /  辛德勒名单\", 'grade': '9.5', 'link': 'https://movie.douban.com/subject/1295124/', 'quote': '拯救一个人，就是拯救整个世界。'}{'title': \"忠犬八公的故事/Hachi: A Dog's Tale/秋田犬八千(港)  /  忠犬小八(台)\", 'grade': '9.4', 'link': 'https://movie.douban.com/subject/3011091/', 'quote': '永远都不能忘记你所爱的人。'}{'title': \"海上钢琴师/La leggenda del pianista sull'oceano/声光伴我飞(港)  /  一九零零的传奇\", 'grade': '9.3', 'link': 'https://movie.douban.com/subject/1292001/', 'quote': '每个人都要走一条自己坚定了的路，就算是粉身碎骨。 '}{'title': '三傻大闹宝莱坞/3 Idiots/三个傻瓜(台)  /  作死不离3兄弟(港)', 'grade': '9.2', 'link': 'https://movie.douban.com/subject/3793023/', 'quote': '英俊版憨豆，高情商版谢耳朵。'}{'title': '放牛班的春天/Les choristes/歌声伴我心(港)  /  唱诗班男孩', 'grade': '9.3', 'link': 'https://movie.douban.com/subject/1291549/', 'quote': '天籁一般的童声，是最接近上帝的存在。 '}{'title': '机器人总动员/WALL·E/太空奇兵·威E(港)  /  瓦力(台)', 'grade': '9.3', 'link': 'https://movie.douban.com/subject/2131459/', 'quote': '小瓦力，大人生。'}{'title': '疯狂动物城/Zootopia/优兽大都会(港)  /  动物方城市(台)', 'grade': '9.2', 'link': 'https://movie.douban.com/subject/25662329/', 'quote': '迪士尼给我们营造的乌托邦就是这样，永远善良勇敢，永远出乎意料。'}{'title': '无间道/無間道/Infernal Affairs  /  Mou gaan dou', 'grade': '9.3', 'link': 'https://movie.douban.com/subject/1307914/', 'quote': '香港电影史上永不过时的杰作。'}{'title': '控方证人/Witness for the Prosecution/雄才伟略  /  情妇', 'grade': '9.6', 'link': 'https://movie.douban.com/subject/1296141/', 'quote': '比利·怀德满分作品。'}{'title': '大话西游之大圣娶亲/西遊記大結局之仙履奇緣/西游记完结篇仙履奇缘  /  齐天大圣西游记', 'grade': '9.2', 'link': 'https://movie.douban.com/subject/1292213/', 'quote': '一生所爱。'}{'title': '熔炉/도가니/无声呐喊(港)  /  漩涡', 'grade': '9.3', 'link': 'https://movie.douban.com/subject/5912992/', 'quote': '我们一路奋战不是为了改变世界，而是为了不让世界改变我们。'}{'title': \"教父/The Godfather/Mario Puzo's The Godfather\", 'grade': '9.3', 'link': 'https://movie.douban.com/subject/1291841/', 'quote': '千万不要记恨你的对手，这样会让你失去理智。'}{'title': '触不可及/Intouchables/闪亮人生(港)  /  逆转人生(台)', 'grade': '9.3', 'link': 'https://movie.douban.com/subject/6786002/', 'quote': '满满温情的高雅喜剧。'}{'title': '当幸福来敲门/The Pursuit of Happyness/寻找快乐的故事(港)  /  追求快乐', 'grade': '9.2', 'link': 'https://movie.douban.com/subject/1849031/', 'quote': '平民励志片。 '}{'title': '寻梦环游记/Coco/玩转极乐园(港)  /  可可夜总会(台)', 'grade': '9.1', 'link': 'https://movie.douban.com/subject/20495023/', 'quote': '死亡不是真的逝去，遗忘才是永恒的消亡。'}\n",
      "Save Success\n"
     ]
    }
   ],
   "source": [
    "import requests\n",
    "from lxml import etree\n",
    "\n",
    "def getsource(pagelink):  # 定义一个函数用来获取网页源代码 #\n",
    "    # 请求头\n",
    "    headers = {\n",
    "        'User-Agent': 'Mozilla/5.0 (Windows NT 10.0; Win64; x64) AppleWebKit/537.36 (KHTML, like Gecko) Chrome/103.0.0.0 Safari/537.36'\n",
    "    }\n",
    "    response = requests.get(pagelink, headers=headers)\n",
    "    html = response.text\n",
    "    return html\n",
    " \n",
    "def geteveryitem(html):  # 定义一个函数用于解析我们的网页源代码并获取我们想要的数据 #\n",
    "    element = etree.HTML(html)\n",
    "    movieitemlist = element.xpath('//li//div[@class=\"info\"]')  # 拿到[class=\"info\"]的所有div #\n",
    "    itemlist = []\n",
    "    for item in movieitemlist:\n",
    "        itemdict = {}\n",
    "        \n",
    "        title = item.xpath('./div[@class=\"hd\"]/a/span[@class=\"title\"]/text()')  # 标题 #\n",
    "        title = \"\".join(title).replace(\"\\xa0\", \"\")\n",
    "        \n",
    "        othertitle = item.xpath('./div[@class=\"hd\"]/a/span[@class=\"other\"]/text()')[0].replace(\"\\xa0\", \"\") # 副标题 #\n",
    "        \n",
    "        grade = item.xpath('./div[@class=\"bd\"]/div[@class=\"star\"]/span[2]/text()')[0]  # 评分 #\n",
    "        \n",
    "        link = item.xpath('div[@class=\"hd\"]/a/@href')[0]  # 详情页的url #\n",
    "        \n",
    "        quote = item.xpath('div[@class=\"bd\"]/p[@class=\"quote\"]/span/text()')  # 引言 #\n",
    "       \n",
    "        if quote:  # 非空处理 #\n",
    "            quote = quote[0]\n",
    "        else:\n",
    "            quote = \"\"\n",
    "        \n",
    "        itemdict['title'] = ''.join(title + othertitle)  # 将数据存放到字典中 #\n",
    "        itemdict['grade'] = grade\n",
    "        itemdict['link'] = link\n",
    "        itemdict['quote'] = quote\n",
    "        \n",
    "        itemlist.append(itemdict)\n",
    "    return itemlist\n",
    " \n",
    " \n",
    "if __name__ == '__main__':\n",
    "    url = 'https://movie.douban.com/top250?start=0&filter='\n",
    "    html = getsource(url)\n",
    "    itemlist = geteveryitem(html)\n",
    "    text = ''\n",
    "    for item in itemlist:\n",
    "       text += str(item)\n",
    "    with open('./Save_files/Movie_list.txt', 'w', encoding = 'UTF-8') as fp:  # 本地化存储 #\n",
    "        fp.write(text)\n",
    "\n",
    "    print('Save Success')"
   ]
  },
  {
   "cell_type": "code",
   "execution_count": null,
   "id": "a0ff4f85-45c3-4078-b09e-a44adbcc7ef2",
   "metadata": {},
   "outputs": [],
   "source": []
  }
 ],
 "metadata": {
  "kernelspec": {
   "display_name": "Python 3 (ipykernel)",
   "language": "python",
   "name": "python3"
  },
  "language_info": {
   "codemirror_mode": {
    "name": "ipython",
    "version": 3
   },
   "file_extension": ".py",
   "mimetype": "text/x-python",
   "name": "python",
   "nbconvert_exporter": "python",
   "pygments_lexer": "ipython3",
   "version": "3.12.1"
  }
 },
 "nbformat": 4,
 "nbformat_minor": 5
}
