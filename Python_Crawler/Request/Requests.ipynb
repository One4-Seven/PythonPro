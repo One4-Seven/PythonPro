{
 "cells": [
  {
   "cell_type": "markdown",
   "id": "baa26e27-4636-440a-b6aa-91525cb2e062",
   "metadata": {},
   "source": [
    "### 爬虫框架 Requests\n",
    "- Python原生的爬虫模块\n",
    "- 相较于Urllib模块更为方便快捷\n",
    "- 用于模拟浏览器发送请求并获取数据\n",
    "- 基本步骤：\n",
    "  - 指定URL\n",
    "  - 发送请求\n",
    "  - 获取响应数据\n",
    "  - 存储数据库"
   ]
  },
  {
   "cell_type": "code",
   "execution_count": 49,
   "id": "1445fa79-fdf8-44c6-802a-66ba389df994",
   "metadata": {},
   "outputs": [
    {
     "name": "stdout",
     "output_type": "stream",
     "text": [
      "Save Success\n"
     ]
    }
   ],
   "source": [
    "import requests\n",
    "\n",
    "url = 'https://www.sogou.com/'  # 指定URL #\n",
    "response = requests.get(url = url)  # 发送 GET请求并返回响应对象 #\n",
    "page_text = response.text  # text() 获取字符串类型的页面数据 #\n",
    "with open('./Save_files/Sougou.html', 'w', encoding = 'UTF-8') as fp:\n",
    "    fp.write(page_text)\n",
    "    print('Save Success')"
   ]
  },
  {
   "cell_type": "markdown",
   "id": "7674d693-aa40-47c3-8474-e8b575e48e12",
   "metadata": {},
   "source": [
    "### 响应体的一些属性 Response\n",
    "- text：字符串类型的页面数据\n",
    "- content：bytes类型的页面数据\n",
    "- headers：响应头信息\n",
    "- status_code：响应状态码\n",
    "- url：获取请求的URL"
   ]
  },
  {
   "cell_type": "code",
   "execution_count": 6,
   "id": "56d159cb-621b-470d-bcf3-f682bb4c804e",
   "metadata": {
    "collapsed": true,
    "jupyter": {
     "outputs_hidden": true
    },
    "scrolled": true
   },
   "outputs": [
    {
     "name": "stdout",
     "output_type": "stream",
     "text": [
      "<!DOCTYPE html><html lang=\"cn\"><head> <meta name=\"baidu_union_verify\" content=\"efd6e8ce094119528f66c2d380f6ec94\">\n",
      "<meta name='360_ssp_verify' content='651669fb99b77a4e4efae7ec25d6796a' /> <meta name=\"viewport\" content=\"width=device-width,minimum-scale=1,maximum-scale=1,user-scalable=no\"><script>window._speedMark = new Date();\n",
      "window.lead_ip = '222.94.67.99';\n",
      "window.now = 1726242111660;</script><script type=\"text/javascript\">/*file=static/js/resourceErrorReport.js*/!function(a){var n=(new Date).getTime(),r=a.location.protocol;function c(e,t){var o=(new Date).getTime()-n;(new Image).src=[\"//pb.sogou.com/pv.gif?uigs_productid=wapapp&type=resource-error&stype=\",e,\"&timestamp=\",o,\"&protocol=\",r,\"&host=\",encodeURIComponent(a.location.host),\"&path=\",encodeURIComponent(a.location.pathname),\"&resource=\",encodeURIComponent(t)].join(\"\")}function e(e){if((e=e||a.event)&&\"error\"===e.type){var t=e.srcElement?e.srcElement:e.target;if(t){var o,n,r=t.tagName;\"LINK\"===r?(n=\"css\",(o=t.getAttribute(\"href\"))&&o.match(/\\.css($|\\?)/)&&c(n,o)):\"SCRIPT\"===r&&(n=\"js\",(o=t.getAttribute(\"src\"))&&o.match(/\\.js($|\\?)/)&&c(n,o))}}}r&&(r=r.substring(0,r.length-1)),a.addEventListener?a.addEventListener(\"error\",e,!0):a.attachEvent&&a.attachEvent(\"onerror\",e)}(window);</script><meta charset=\"utf-8\"><link rel=\"dns-prefetch\" href=\"//img01.sogoucdn.com\"><link rel=\"dns-prefetch\" href=\"//img02.sogoucdn.com\"><link rel=\"dns-prefetch\" href=\"//img03.sogoucdn.com\"><link rel=\"dns-prefetch\" href=\"//img04.sogoucdn.com\"><link rel=\"dns-prefetch\" href=\"//dlweb.sogoucdn.com\"><title>搜狗搜索引擎 - 上网从搜狗开始</title><link rel=\"shortcut icon\" href=\"/images/logo/new/favicon.ico?v=4\" type=\"image/x-icon\"><meta http-equiv=\"X-UA-Compatible\" content=\"IE=Edge\"><link rel=\"search\" type=\"application/opensearchdescription+xml\" href=\"/content-search.xml\" title=\"搜狗搜索\"><meta name=\"keywords\" content=\"搜狗搜索,网页搜索,微信搜索,视频搜索,图片搜索,音乐搜索,新闻搜索,软件搜索,问答搜索,百科搜索,购物搜索\"><meta name=\"description\" content=\"搜狗搜索是全球第三代互动式搜索引擎，支持微信公众号和文章搜索、知乎搜索、英文搜索及翻译等，通过自主研发的人工智能算法为用户提供专业、精准、便捷的搜索服务。\"><link rel=\"stylesheet\" type=\"text/css\" href=\"//search.sogoucdn.com/websearch/pc/static/css/index.456c2e67.css\"><!-- indexSnippetToHeader start --> <style>#voice-btn{display:none}</style> <!-- indexSnippetToHeader end --></head><body color-style=\"white\"><div class=\"wrapper\" id=\"wrap\"><div class=\"header\"> <div class=\"top-nav\"><ul><li class=\"cur\"><span>网页</span></li><li><a onclick=\"st(this,'73141200','weixin')\" href=\"http://weixin.sogou.com/\" uigs-id=\"nav_weixin\" id=\"weixinch\">微信</a></li><li><a onclick=\"st(this,'40051200','zhihu')\" href=\"http://zhihu.sogou.com/\" uigs-id=\"nav_zhihu\" id=\"zhihu\">知乎</a></li><li><a onclick=\"st(this,'40030500','pic')\" href=\"http://pic.sogou.com\" uigs-id=\"nav_pic\" id=\"pic\">图片</a></li><li><a onclick=\"st(this,'40030600','video')\" href=\"https://v.sogou.com/\" uigs-id=\"nav_v\" id=\"video\">视频</a></li><li><a href=\"http://mingyi.sogou.com?fr=common_index_nav\" uigs-id=\"nav_mingyi\" id=\"mingyi\" onclick=\"st(this,'','myingyi')\">医疗</a></li><li><a href=\"http://hanyu.sogou.com?fr=pcweb_index_nav\" uigs-id=\"nav_hanyu\" id=\"hanyu\" onclick=\"st(this,'','hanyu')\">汉语</a></li><li><a href=\"http://fanyi.sogou.com?fr=common_index_nav_pc\" uigs-id=\"nav_fanyi\" id=\"fanyi\" onclick=\"st(this,'','fanyi')\">翻译</a></li><li><a onclick=\"st(this,'web2ww','wenwen')\" href=\"https://wenwen.sogou.com/?ch=websearch\" uigs-id=\"nav_wenwen\" id=\"index_more_wenwen\">问问</a></li><li><a onclick=\"st(this,'web2ww','baike')\" href=\"http://baike.sogou.com/Home.v\" uigs-id=\"nav_baike\" id=\"index_baike\">百科</a></li><li><a onclick=\"st(this,'40031000')\" href=\"http://map.sogou.com\" uigs-id=\"nav_map\" id=\"map\">地图</a></li><li class=\"show-more\"><a href=\"javascript:void(0);\" id=\"more-product\">更多<i class=\"m-arr\"></i></a><div class=\"pos-more\" id=\"products-box\" style=\"top: 40px;\"><span class=\"ico-san\"></span><a onclick=\"st(this)\" href=\"http://zhishi.sogou.com\" uigs-id=\"nav_zhishi\" id=\"index_more_zhishi\">知识</a><a onclick=\"st(this,'40051205')\" href=\"http://as.sogou.com/\" uigs-id=\"nav_app\" id=\"index_more_appli\">应用</a><span class=\"all\"><a onclick=\"st(this,'40051206')\" href=\"http://www.sogou.com/docs/more.htm?v=1\" uigs-id=\"nav_all\" target=\"_blank\">全部</a></span></div></li></ul></div><div class=\"user-box\"><div class=\"local-weather\" id=\"local-weather\"><div class=\"wea-box\" id=\"cur-weather\" style=\"display: none;\"></div><div class=\"pos-more\" id=\"detail-weather\" style=\"top:40px;left:-110px;\"></div></div><span class=\"line\" id=\"user-box-line\" style=\"display: none;\"></span>  <a href=\"javascript:void(0)\" id=\"cniil_wza\" style=\"float: left;text-decoration: none;color: #000;opacity: .75;padding-left:8px;margin-right: 20px;line-height: 14px;position: relative;top: 5px;\">无障碍</a>  </div></div><div class=\"content\" id=\"content\"><div class=\"pos-header\" id=\"top-float-bar\"><div class=\"part-one\"></div><div class=\"part-two\" id=\"card-tab-layer\"><div class=\"c-top\" id=\"top-card-tab\"></div></div></div><div class=\"logo2\" id=\"logo-s\"><span></span></div><div class=\"logo\" id=\"logo-l\"><span></span></div> <div class=\"search-box querybox-focus\" id=\"search-box\"><form action=\"/web\" name=\"sf\" id=\"sf\"><span class=\"sec-input-box\"><input type=\"text\" class=\"sec-input active\" name=\"query\" id=\"query\" maxlength=\"100\" len=\"80\" autocomplete=\"off\"></span><span class=\"enter-input\"><input type=\"submit\" value=\"搜索\" id=\"stb\"></span><input type=\"hidden\" name=\"_asf\" value=\"www.sogou.com\"> <input type=\"hidden\" name=\"_ast\"> <input type=\"hidden\" name=\"w\" value=\"01019900\"> <input type=\"hidden\" name=\"p\" value=\"40040100\"> <input type=\"hidden\" name=\"ie\" value=\"utf8\"> <input type=\"hidden\" name=\"from\" value=\"index-nologin\"> <input type=\"hidden\" name=\"s_from\" value=\"index\"><div class=\"keywords-tips\" id=\"keywordsTips\" style=\"display:none\"><i></i><p>“<strong id=\"keywordsTipsStrong\">369</strong>”后面的文字被忽略，搜狗的查询限制在40个汉字以内。</p></div></form></div>  </div><div class=\"ft\" id=\"footer\"  style=\"display: none;\" ><a href=\"//e.qq.com?from=sougou01\" target=\"_blank\" uigs-id=\"footer_tuiguang\">企业推广</a><span class=\"line\"></span><a href=\"http://www.sogou.com/docs/terms.htm?v=1\" target=\"_blank\" uigs-id=\"footer_disclaimer\">免责声明</a><span class=\"line\"></span><a href=\"https://fankui.sogou.com/index.php/web/web/index/type/4\" target=\"_blank\" uigs-id=\"footer_feedback\">意见反馈及投诉</a><span class=\"line\"></span><a href=\"https://www.sogou.com/docs/privacy.htm?v=1\" target=\"_blank\" uigs-id=\"footer_private\">隐私政策</a><br><span class=\"g\">药品医疗器械网络信息服务备案：（京）网药械信息备字（2021）第00047号</span><br>&copy;&nbsp;2004-2024&nbsp;Sogou.com&nbsp;/&nbsp;<a href=\"http://www.12377.cn\" class=\"g\" target=\"_blank\">网上有害信息举报专区</a>&nbsp;/&nbsp;<span class=\"g\">京网文(2019)6117-724号</span>&nbsp;/&nbsp;<a class=\"g\" href=\"https://beian.miit.gov.cn/\" target=\"_blank\">京ICP证050897号</a>&nbsp;/&nbsp;<a class=\"g\" href=\"https://beian.miit.gov.cn/\" target=\"_blank\">京ICP备11001839号-1</a>&nbsp;/&nbsp;<a href=\"http://www.beian.gov.cn/portal/registerSystemInfo?recordcode=11000002000025\" class=\"ba\" target=\"_blank\">京公网安备11000002000025号</a></div>  <div class=\"ft-v1\" id=\"QRcode-footer\" style=\"padding-bottom:28px;\"><div class=\"ft-info\"><a uigs-id=\"mid_pinyin\" href=\"http://pinyin.sogou.com/\" target=\"_blank\"><i class=\"i1\"></i>搜狗输入法</a><span class=\"line\"></span><a uigs-id=\"mid_liulanqi\" href=\"http://ie.sogou.com/\" target=\"_blank\"><i class=\"i2\"></i>浏览器</a><span class=\"line\"></span><a uigs-id=\"mid_daohang\" href=\"http://123.sogou.com/\" target=\"_blank\"><i class=\"i3\"></i>网址导航</a><br><a href=\"//e.qq.com?from=sougou01\" target=\"_blank\" class=\"g\">企业推广</a>&nbsp;-&nbsp;<a href=\"http://www.sogou.com/docs/terms.htm?v=1\" target=\"_blank\" class=\"g\">免责声明</a>&nbsp;-&nbsp;<a href=\"https://fankui.sogou.com/index.php/web/web/index/type/4\" target=\"_blank\" class=\"g\">意见反馈及投诉</a>&nbsp;-&nbsp;<a href=\"https://www.sogou.com/docs/privacy.htm?v=1\" target=\"_blank\" class=\"g\" uigs-id=\"footer_private\">隐私政策</a><br><span class=\"g\">药品医疗器械网络信息服务备案：（京）网药械信息备字（2021）第00047号</span><br>&copy;&nbsp;2004-2024&nbsp;Sogou.com&nbsp;/&nbsp;<a href=\"http://www.12377.cn\" class=\"g\" target=\"_blank\">网上有害信息举报专区</a>&nbsp;/&nbsp;<span class=\"g\">京网文(2019)6117-724号</span>&nbsp;/&nbsp;<a class=\"g\" href=\"https://beian.miit.gov.cn/\" target=\"_blank\">京ICP证050897号</a>&nbsp;/&nbsp;<a class=\"g\" href=\"https://beian.miit.gov.cn/\" target=\"_blank\">京ICP备11001839号-1</a>&nbsp;/&nbsp;<a href=\"http://www.beian.gov.cn/portal/registerSystemInfo?recordcode=11000002000025\" class=\"ba\" target=\"_blank\">京公网安备11000002000025号</a></div>  <div class=\"fit-older\"></div>  </div> <div class=\"kuozhan\" id=\"QRcode-box\" style=\"display: none;\"><a href=\"javascript:void(0);\" id=\"miniQRcode\"></a><span id=\"QRcode\"></span></div><a href=\"javascript:void(0);\" class=\"back-top\" id=\"back-top\"></a></div><script>var SugPara, uigs_para, msBrowserName = navigator.userAgent.toLowerCase(),msIsSe = false,msIsMSearch = false, hasDoodle = false, queryinput = document.getElementById('query');</script><script>/*file=static/js/indexjs.js*/function indexjsInit(e){function o(){try{window.external.metasearch(\"make_connection\",\"www.google.com.hk\")}catch(e){}}uigs_para={uigs_productid:\"webapp\",type:\"webindex_new\",stype:\"nologin\",scrnwi:screen.width,scrnhi:screen.height,uigs_pbtag:\"A\",uigs_cookie:\"SUID,sct\",protocol:\"https:\"==location.protocol.toLowerCase()?\"https\":\"http\"},window.loginCardConfig={},SugPara={queryboxid:\"search-box\",enableSug:!0,sugType:\"web\",domain:\"w.sugg.sogou.com\",productId:\"web\",sugFormName:\"sf\",inputid:\"query\",submitId:\"stb\",suggestRid:\"01015002\",normalRid:\"01019900\",useParent:1,sugglocation:\"index\",showVr:!0,showHotwords:!0,suggAbtestObject:e},/se 2\\.x/i.test(msBrowserName)&&(msIsSe=!0),/metasr/i.test(msBrowserName)&&(msIsMSearch=!0),queryinput&&msIsSe&&msIsMSearch&&(queryinput.addEventListener?(queryinput.addEventListener(\"keypress\",o,!1),queryinput.addEventListener(\"keydown\",o,!1)):queryinput.attachEvent?(queryinput.attachEvent(\"onkeypress\",o),queryinput.attachEvent(\"onkeydown\",o)):(queryinput.onkeypress=o,queryinput.onkeydown=o)),window.m_s_index=function(){var e=document.sf.query,o=Math.round(1e3*((new Date).getTime()+Math.random()));e.focus(),new RegExp(\"kw=([^&]+)\").test(location.search)&&0==e.value.length&&(e.value=decodeURIComponent(RegExp.$1)),document.cookie.indexOf(\"SUV=\")<0&&(document.cookie=\"SUV=\"+o+\";path=/;expires=Sun, 29 July 2026 00:00:00 UTC;domain=\"+function(){var e=document.domain;return e.indexOf(\"sogou.com\")==e.length-9?\".sogou.com\":e.indexOf(\"soso.com\")==e.length-8?\".soso.com\":-1!=e.indexOf(\"sogo.com\")?\".sogo.com\":void 0}())},window.st=function(e,o,n,t){var u=document.sf.query,i=encodeURIComponent(u.value),s={news:\"http://news.sogou.com/news?ie=utf8&query=\",web:\"web?ie=utf8&query=\",weixin:\"http://weixin.sogou.com/weixin?type=2&ie=utf8&query=\",zhihu:\"http://zhihu.sogou.com/zhihu?ie=utf8&query=\",pic:\"http://pic.sogou.com/pics?ie=utf8&query=\",video:\"https://v.sogou.com/v?ie=utf8&query=\",myingyi:\"https://www.sogou.com/web?m2web=mingyi.sogou.com&ie=utf8&query=\",overseas:\"http://english.sogou.com?b_o_e=1&ie=utf8&fr=pcweb_index_nav&query=\",scholar:\"http://scholar.sogou.com?ie=utf8&fr=common_index_nav&query=\",fanyi:\"http://fanyi.sogou.com/?fr=common_index_nav_pc&ie=utf8&keyword=\",wenwen:\"http://wenwen.sogou.com/s/?ch=websearch&w=\",hanyu:\"https://hanyu.sogou.com/?query=\",science:\"https://baike.sogou.com/kexue/home.htm?query=\"},r=s[n]||e.href;function c(e){return-1<e.indexOf(\"?\")?\"&\":\"?\"}u&&\"\"!==u.value&&([\"hanyu\"].includes(n)?r=r.match(/.*(?=\\?query\\=)/)[0]+{hanyu:{index:\"\",result:\"result\"}}[n].result+\"?query=\"+i:s[n]?r=s[n]+i:0<r.indexOf(\"kw=\")?r=r.replace(new RegExp(\"kw=[^&$]*\"),\"kw=\"+i):r+=c(r)+\"kw=\"+i),o&&(r+=c(r)+\"p=\"+o),t&&0<t.length&&(r+=\"#\"+t),!u||\"\"!=u.value||\"wenwen\"!=n&&\"science\"!=n||(r=e.href),e.href=r},window.cid=function(e,o){var n=document.sf.query,t=encodeURIComponent(n.value);t?\"web2ww\"===o?e.href+=\"s/?cid=web2ww&w=\"+t:\"web2bk\"===o&&(e.href+=\"Search.e?sp=S\"+t+\"&cid=web2bk\"):e.href+=\"?cid=\"+o},window.m_s_index()}indexjsInit({\"suggestHistoryStrategy1\":\"\",\"suggestHistoryStrategy2\":\"0|1|2|3|4|5|6|7|8\",\"suggHistoryAbtest\":\"\"});</script><script src=\"//dlweb.sogoucdn.com/pcsearch/js/jquery-1.11.0.min_8fc25e2.js\"></script><script src=\"//dlweb.sogoucdn.com/pcsearch/js/lib/jquery.mousewheel.min_639d1c3.js\"></script><script src=\"//dlweb.sogoucdn.com/pcsearch/js/lib/juicer-min_2a2bf35.js\"></script><script src=\"//dlweb.sogoucdn.com/pcsearch/js/pb_v.1.9.6.min_2030e16.js\"></script><script src=\"//search.sogoucdn.com/websearch/pc/static/js/sugg.cf3d4a4f.js\"></script><script src=\"//dlweb.sogoucdn.com/pcsearch/web/index/js/searchbase_453304b.js\"></script>  <script defer=\"defer\" async type=\"text/javascript\" src=\"//dlweb.sogoucdn.com/barrier_free/pc/wzaV15/aria.js?appid=c4d5562ec7daa12a5a351cbe1a292da1\" charset=\"utf-8\"></script></body></html><!--zly-->\n",
      "--------------------------------------------------\n",
      "b'<!DOCTYPE html><html lang=\"cn\"><head> <meta name=\"baidu_union_verify\" content=\"efd6e8ce094119528f66c2d380f6ec94\">\\n<meta name=\\'360_ssp_verify\\' content=\\'651669fb99b77a4e4efae7ec25d6796a\\' /> <meta name=\"viewport\" content=\"width=device-width,minimum-scale=1,maximum-scale=1,user-scalable=no\"><script>window._speedMark = new Date();\\nwindow.lead_ip = \\'222.94.67.99\\';\\nwindow.now = 1726242111660;</script><script type=\"text/javascript\">/*file=static/js/resourceErrorReport.js*/!function(a){var n=(new Date).getTime(),r=a.location.protocol;function c(e,t){var o=(new Date).getTime()-n;(new Image).src=[\"//pb.sogou.com/pv.gif?uigs_productid=wapapp&type=resource-error&stype=\",e,\"&timestamp=\",o,\"&protocol=\",r,\"&host=\",encodeURIComponent(a.location.host),\"&path=\",encodeURIComponent(a.location.pathname),\"&resource=\",encodeURIComponent(t)].join(\"\")}function e(e){if((e=e||a.event)&&\"error\"===e.type){var t=e.srcElement?e.srcElement:e.target;if(t){var o,n,r=t.tagName;\"LINK\"===r?(n=\"css\",(o=t.getAttribute(\"href\"))&&o.match(/\\\\.css($|\\\\?)/)&&c(n,o)):\"SCRIPT\"===r&&(n=\"js\",(o=t.getAttribute(\"src\"))&&o.match(/\\\\.js($|\\\\?)/)&&c(n,o))}}}r&&(r=r.substring(0,r.length-1)),a.addEventListener?a.addEventListener(\"error\",e,!0):a.attachEvent&&a.attachEvent(\"onerror\",e)}(window);</script><meta charset=\"utf-8\"><link rel=\"dns-prefetch\" href=\"//img01.sogoucdn.com\"><link rel=\"dns-prefetch\" href=\"//img02.sogoucdn.com\"><link rel=\"dns-prefetch\" href=\"//img03.sogoucdn.com\"><link rel=\"dns-prefetch\" href=\"//img04.sogoucdn.com\"><link rel=\"dns-prefetch\" href=\"//dlweb.sogoucdn.com\"><title>\\xe6\\x90\\x9c\\xe7\\x8b\\x97\\xe6\\x90\\x9c\\xe7\\xb4\\xa2\\xe5\\xbc\\x95\\xe6\\x93\\x8e - \\xe4\\xb8\\x8a\\xe7\\xbd\\x91\\xe4\\xbb\\x8e\\xe6\\x90\\x9c\\xe7\\x8b\\x97\\xe5\\xbc\\x80\\xe5\\xa7\\x8b</title><link rel=\"shortcut icon\" href=\"/images/logo/new/favicon.ico?v=4\" type=\"image/x-icon\"><meta http-equiv=\"X-UA-Compatible\" content=\"IE=Edge\"><link rel=\"search\" type=\"application/opensearchdescription+xml\" href=\"/content-search.xml\" title=\"\\xe6\\x90\\x9c\\xe7\\x8b\\x97\\xe6\\x90\\x9c\\xe7\\xb4\\xa2\"><meta name=\"keywords\" content=\"\\xe6\\x90\\x9c\\xe7\\x8b\\x97\\xe6\\x90\\x9c\\xe7\\xb4\\xa2,\\xe7\\xbd\\x91\\xe9\\xa1\\xb5\\xe6\\x90\\x9c\\xe7\\xb4\\xa2,\\xe5\\xbe\\xae\\xe4\\xbf\\xa1\\xe6\\x90\\x9c\\xe7\\xb4\\xa2,\\xe8\\xa7\\x86\\xe9\\xa2\\x91\\xe6\\x90\\x9c\\xe7\\xb4\\xa2,\\xe5\\x9b\\xbe\\xe7\\x89\\x87\\xe6\\x90\\x9c\\xe7\\xb4\\xa2,\\xe9\\x9f\\xb3\\xe4\\xb9\\x90\\xe6\\x90\\x9c\\xe7\\xb4\\xa2,\\xe6\\x96\\xb0\\xe9\\x97\\xbb\\xe6\\x90\\x9c\\xe7\\xb4\\xa2,\\xe8\\xbd\\xaf\\xe4\\xbb\\xb6\\xe6\\x90\\x9c\\xe7\\xb4\\xa2,\\xe9\\x97\\xae\\xe7\\xad\\x94\\xe6\\x90\\x9c\\xe7\\xb4\\xa2,\\xe7\\x99\\xbe\\xe7\\xa7\\x91\\xe6\\x90\\x9c\\xe7\\xb4\\xa2,\\xe8\\xb4\\xad\\xe7\\x89\\xa9\\xe6\\x90\\x9c\\xe7\\xb4\\xa2\"><meta name=\"description\" content=\"\\xe6\\x90\\x9c\\xe7\\x8b\\x97\\xe6\\x90\\x9c\\xe7\\xb4\\xa2\\xe6\\x98\\xaf\\xe5\\x85\\xa8\\xe7\\x90\\x83\\xe7\\xac\\xac\\xe4\\xb8\\x89\\xe4\\xbb\\xa3\\xe4\\xba\\x92\\xe5\\x8a\\xa8\\xe5\\xbc\\x8f\\xe6\\x90\\x9c\\xe7\\xb4\\xa2\\xe5\\xbc\\x95\\xe6\\x93\\x8e\\xef\\xbc\\x8c\\xe6\\x94\\xaf\\xe6\\x8c\\x81\\xe5\\xbe\\xae\\xe4\\xbf\\xa1\\xe5\\x85\\xac\\xe4\\xbc\\x97\\xe5\\x8f\\xb7\\xe5\\x92\\x8c\\xe6\\x96\\x87\\xe7\\xab\\xa0\\xe6\\x90\\x9c\\xe7\\xb4\\xa2\\xe3\\x80\\x81\\xe7\\x9f\\xa5\\xe4\\xb9\\x8e\\xe6\\x90\\x9c\\xe7\\xb4\\xa2\\xe3\\x80\\x81\\xe8\\x8b\\xb1\\xe6\\x96\\x87\\xe6\\x90\\x9c\\xe7\\xb4\\xa2\\xe5\\x8f\\x8a\\xe7\\xbf\\xbb\\xe8\\xaf\\x91\\xe7\\xad\\x89\\xef\\xbc\\x8c\\xe9\\x80\\x9a\\xe8\\xbf\\x87\\xe8\\x87\\xaa\\xe4\\xb8\\xbb\\xe7\\xa0\\x94\\xe5\\x8f\\x91\\xe7\\x9a\\x84\\xe4\\xba\\xba\\xe5\\xb7\\xa5\\xe6\\x99\\xba\\xe8\\x83\\xbd\\xe7\\xae\\x97\\xe6\\xb3\\x95\\xe4\\xb8\\xba\\xe7\\x94\\xa8\\xe6\\x88\\xb7\\xe6\\x8f\\x90\\xe4\\xbe\\x9b\\xe4\\xb8\\x93\\xe4\\xb8\\x9a\\xe3\\x80\\x81\\xe7\\xb2\\xbe\\xe5\\x87\\x86\\xe3\\x80\\x81\\xe4\\xbe\\xbf\\xe6\\x8d\\xb7\\xe7\\x9a\\x84\\xe6\\x90\\x9c\\xe7\\xb4\\xa2\\xe6\\x9c\\x8d\\xe5\\x8a\\xa1\\xe3\\x80\\x82\"><link rel=\"stylesheet\" type=\"text/css\" href=\"//search.sogoucdn.com/websearch/pc/static/css/index.456c2e67.css\"><!-- indexSnippetToHeader start --> <style>#voice-btn{display:none}</style> <!-- indexSnippetToHeader end --></head><body color-style=\"white\"><div class=\"wrapper\" id=\"wrap\"><div class=\"header\"> <div class=\"top-nav\"><ul><li class=\"cur\"><span>\\xe7\\xbd\\x91\\xe9\\xa1\\xb5</span></li><li><a onclick=\"st(this,\\'73141200\\',\\'weixin\\')\" href=\"http://weixin.sogou.com/\" uigs-id=\"nav_weixin\" id=\"weixinch\">\\xe5\\xbe\\xae\\xe4\\xbf\\xa1</a></li><li><a onclick=\"st(this,\\'40051200\\',\\'zhihu\\')\" href=\"http://zhihu.sogou.com/\" uigs-id=\"nav_zhihu\" id=\"zhihu\">\\xe7\\x9f\\xa5\\xe4\\xb9\\x8e</a></li><li><a onclick=\"st(this,\\'40030500\\',\\'pic\\')\" href=\"http://pic.sogou.com\" uigs-id=\"nav_pic\" id=\"pic\">\\xe5\\x9b\\xbe\\xe7\\x89\\x87</a></li><li><a onclick=\"st(this,\\'40030600\\',\\'video\\')\" href=\"https://v.sogou.com/\" uigs-id=\"nav_v\" id=\"video\">\\xe8\\xa7\\x86\\xe9\\xa2\\x91</a></li><li><a href=\"http://mingyi.sogou.com?fr=common_index_nav\" uigs-id=\"nav_mingyi\" id=\"mingyi\" onclick=\"st(this,\\'\\',\\'myingyi\\')\">\\xe5\\x8c\\xbb\\xe7\\x96\\x97</a></li><li><a href=\"http://hanyu.sogou.com?fr=pcweb_index_nav\" uigs-id=\"nav_hanyu\" id=\"hanyu\" onclick=\"st(this,\\'\\',\\'hanyu\\')\">\\xe6\\xb1\\x89\\xe8\\xaf\\xad</a></li><li><a href=\"http://fanyi.sogou.com?fr=common_index_nav_pc\" uigs-id=\"nav_fanyi\" id=\"fanyi\" onclick=\"st(this,\\'\\',\\'fanyi\\')\">\\xe7\\xbf\\xbb\\xe8\\xaf\\x91</a></li><li><a onclick=\"st(this,\\'web2ww\\',\\'wenwen\\')\" href=\"https://wenwen.sogou.com/?ch=websearch\" uigs-id=\"nav_wenwen\" id=\"index_more_wenwen\">\\xe9\\x97\\xae\\xe9\\x97\\xae</a></li><li><a onclick=\"st(this,\\'web2ww\\',\\'baike\\')\" href=\"http://baike.sogou.com/Home.v\" uigs-id=\"nav_baike\" id=\"index_baike\">\\xe7\\x99\\xbe\\xe7\\xa7\\x91</a></li><li><a onclick=\"st(this,\\'40031000\\')\" href=\"http://map.sogou.com\" uigs-id=\"nav_map\" id=\"map\">\\xe5\\x9c\\xb0\\xe5\\x9b\\xbe</a></li><li class=\"show-more\"><a href=\"javascript:void(0);\" id=\"more-product\">\\xe6\\x9b\\xb4\\xe5\\xa4\\x9a<i class=\"m-arr\"></i></a><div class=\"pos-more\" id=\"products-box\" style=\"top: 40px;\"><span class=\"ico-san\"></span><a onclick=\"st(this)\" href=\"http://zhishi.sogou.com\" uigs-id=\"nav_zhishi\" id=\"index_more_zhishi\">\\xe7\\x9f\\xa5\\xe8\\xaf\\x86</a><a onclick=\"st(this,\\'40051205\\')\" href=\"http://as.sogou.com/\" uigs-id=\"nav_app\" id=\"index_more_appli\">\\xe5\\xba\\x94\\xe7\\x94\\xa8</a><span class=\"all\"><a onclick=\"st(this,\\'40051206\\')\" href=\"http://www.sogou.com/docs/more.htm?v=1\" uigs-id=\"nav_all\" target=\"_blank\">\\xe5\\x85\\xa8\\xe9\\x83\\xa8</a></span></div></li></ul></div><div class=\"user-box\"><div class=\"local-weather\" id=\"local-weather\"><div class=\"wea-box\" id=\"cur-weather\" style=\"display: none;\"></div><div class=\"pos-more\" id=\"detail-weather\" style=\"top:40px;left:-110px;\"></div></div><span class=\"line\" id=\"user-box-line\" style=\"display: none;\"></span>  <a href=\"javascript:void(0)\" id=\"cniil_wza\" style=\"float: left;text-decoration: none;color: #000;opacity: .75;padding-left:8px;margin-right: 20px;line-height: 14px;position: relative;top: 5px;\">\\xe6\\x97\\xa0\\xe9\\x9a\\x9c\\xe7\\xa2\\x8d</a>  </div></div><div class=\"content\" id=\"content\"><div class=\"pos-header\" id=\"top-float-bar\"><div class=\"part-one\"></div><div class=\"part-two\" id=\"card-tab-layer\"><div class=\"c-top\" id=\"top-card-tab\"></div></div></div><div class=\"logo2\" id=\"logo-s\"><span></span></div><div class=\"logo\" id=\"logo-l\"><span></span></div> <div class=\"search-box querybox-focus\" id=\"search-box\"><form action=\"/web\" name=\"sf\" id=\"sf\"><span class=\"sec-input-box\"><input type=\"text\" class=\"sec-input active\" name=\"query\" id=\"query\" maxlength=\"100\" len=\"80\" autocomplete=\"off\"></span><span class=\"enter-input\"><input type=\"submit\" value=\"\\xe6\\x90\\x9c\\xe7\\xb4\\xa2\" id=\"stb\"></span><input type=\"hidden\" name=\"_asf\" value=\"www.sogou.com\"> <input type=\"hidden\" name=\"_ast\"> <input type=\"hidden\" name=\"w\" value=\"01019900\"> <input type=\"hidden\" name=\"p\" value=\"40040100\"> <input type=\"hidden\" name=\"ie\" value=\"utf8\"> <input type=\"hidden\" name=\"from\" value=\"index-nologin\"> <input type=\"hidden\" name=\"s_from\" value=\"index\"><div class=\"keywords-tips\" id=\"keywordsTips\" style=\"display:none\"><i></i><p>\\xe2\\x80\\x9c<strong id=\"keywordsTipsStrong\">369</strong>\\xe2\\x80\\x9d\\xe5\\x90\\x8e\\xe9\\x9d\\xa2\\xe7\\x9a\\x84\\xe6\\x96\\x87\\xe5\\xad\\x97\\xe8\\xa2\\xab\\xe5\\xbf\\xbd\\xe7\\x95\\xa5\\xef\\xbc\\x8c\\xe6\\x90\\x9c\\xe7\\x8b\\x97\\xe7\\x9a\\x84\\xe6\\x9f\\xa5\\xe8\\xaf\\xa2\\xe9\\x99\\x90\\xe5\\x88\\xb6\\xe5\\x9c\\xa840\\xe4\\xb8\\xaa\\xe6\\xb1\\x89\\xe5\\xad\\x97\\xe4\\xbb\\xa5\\xe5\\x86\\x85\\xe3\\x80\\x82</p></div></form></div>  </div><div class=\"ft\" id=\"footer\"  style=\"display: none;\" ><a href=\"//e.qq.com?from=sougou01\" target=\"_blank\" uigs-id=\"footer_tuiguang\">\\xe4\\xbc\\x81\\xe4\\xb8\\x9a\\xe6\\x8e\\xa8\\xe5\\xb9\\xbf</a><span class=\"line\"></span><a href=\"http://www.sogou.com/docs/terms.htm?v=1\" target=\"_blank\" uigs-id=\"footer_disclaimer\">\\xe5\\x85\\x8d\\xe8\\xb4\\xa3\\xe5\\xa3\\xb0\\xe6\\x98\\x8e</a><span class=\"line\"></span><a href=\"https://fankui.sogou.com/index.php/web/web/index/type/4\" target=\"_blank\" uigs-id=\"footer_feedback\">\\xe6\\x84\\x8f\\xe8\\xa7\\x81\\xe5\\x8f\\x8d\\xe9\\xa6\\x88\\xe5\\x8f\\x8a\\xe6\\x8a\\x95\\xe8\\xaf\\x89</a><span class=\"line\"></span><a href=\"https://www.sogou.com/docs/privacy.htm?v=1\" target=\"_blank\" uigs-id=\"footer_private\">\\xe9\\x9a\\x90\\xe7\\xa7\\x81\\xe6\\x94\\xbf\\xe7\\xad\\x96</a><br><span class=\"g\">\\xe8\\x8d\\xaf\\xe5\\x93\\x81\\xe5\\x8c\\xbb\\xe7\\x96\\x97\\xe5\\x99\\xa8\\xe6\\xa2\\xb0\\xe7\\xbd\\x91\\xe7\\xbb\\x9c\\xe4\\xbf\\xa1\\xe6\\x81\\xaf\\xe6\\x9c\\x8d\\xe5\\x8a\\xa1\\xe5\\xa4\\x87\\xe6\\xa1\\x88\\xef\\xbc\\x9a\\xef\\xbc\\x88\\xe4\\xba\\xac\\xef\\xbc\\x89\\xe7\\xbd\\x91\\xe8\\x8d\\xaf\\xe6\\xa2\\xb0\\xe4\\xbf\\xa1\\xe6\\x81\\xaf\\xe5\\xa4\\x87\\xe5\\xad\\x97\\xef\\xbc\\x882021\\xef\\xbc\\x89\\xe7\\xac\\xac00047\\xe5\\x8f\\xb7</span><br>&copy;&nbsp;2004-2024&nbsp;Sogou.com&nbsp;/&nbsp;<a href=\"http://www.12377.cn\" class=\"g\" target=\"_blank\">\\xe7\\xbd\\x91\\xe4\\xb8\\x8a\\xe6\\x9c\\x89\\xe5\\xae\\xb3\\xe4\\xbf\\xa1\\xe6\\x81\\xaf\\xe4\\xb8\\xbe\\xe6\\x8a\\xa5\\xe4\\xb8\\x93\\xe5\\x8c\\xba</a>&nbsp;/&nbsp;<span class=\"g\">\\xe4\\xba\\xac\\xe7\\xbd\\x91\\xe6\\x96\\x87(2019)6117-724\\xe5\\x8f\\xb7</span>&nbsp;/&nbsp;<a class=\"g\" href=\"https://beian.miit.gov.cn/\" target=\"_blank\">\\xe4\\xba\\xacICP\\xe8\\xaf\\x81050897\\xe5\\x8f\\xb7</a>&nbsp;/&nbsp;<a class=\"g\" href=\"https://beian.miit.gov.cn/\" target=\"_blank\">\\xe4\\xba\\xacICP\\xe5\\xa4\\x8711001839\\xe5\\x8f\\xb7-1</a>&nbsp;/&nbsp;<a href=\"http://www.beian.gov.cn/portal/registerSystemInfo?recordcode=11000002000025\" class=\"ba\" target=\"_blank\">\\xe4\\xba\\xac\\xe5\\x85\\xac\\xe7\\xbd\\x91\\xe5\\xae\\x89\\xe5\\xa4\\x8711000002000025\\xe5\\x8f\\xb7</a></div>  <div class=\"ft-v1\" id=\"QRcode-footer\" style=\"padding-bottom:28px;\"><div class=\"ft-info\"><a uigs-id=\"mid_pinyin\" href=\"http://pinyin.sogou.com/\" target=\"_blank\"><i class=\"i1\"></i>\\xe6\\x90\\x9c\\xe7\\x8b\\x97\\xe8\\xbe\\x93\\xe5\\x85\\xa5\\xe6\\xb3\\x95</a><span class=\"line\"></span><a uigs-id=\"mid_liulanqi\" href=\"http://ie.sogou.com/\" target=\"_blank\"><i class=\"i2\"></i>\\xe6\\xb5\\x8f\\xe8\\xa7\\x88\\xe5\\x99\\xa8</a><span class=\"line\"></span><a uigs-id=\"mid_daohang\" href=\"http://123.sogou.com/\" target=\"_blank\"><i class=\"i3\"></i>\\xe7\\xbd\\x91\\xe5\\x9d\\x80\\xe5\\xaf\\xbc\\xe8\\x88\\xaa</a><br><a href=\"//e.qq.com?from=sougou01\" target=\"_blank\" class=\"g\">\\xe4\\xbc\\x81\\xe4\\xb8\\x9a\\xe6\\x8e\\xa8\\xe5\\xb9\\xbf</a>&nbsp;-&nbsp;<a href=\"http://www.sogou.com/docs/terms.htm?v=1\" target=\"_blank\" class=\"g\">\\xe5\\x85\\x8d\\xe8\\xb4\\xa3\\xe5\\xa3\\xb0\\xe6\\x98\\x8e</a>&nbsp;-&nbsp;<a href=\"https://fankui.sogou.com/index.php/web/web/index/type/4\" target=\"_blank\" class=\"g\">\\xe6\\x84\\x8f\\xe8\\xa7\\x81\\xe5\\x8f\\x8d\\xe9\\xa6\\x88\\xe5\\x8f\\x8a\\xe6\\x8a\\x95\\xe8\\xaf\\x89</a>&nbsp;-&nbsp;<a href=\"https://www.sogou.com/docs/privacy.htm?v=1\" target=\"_blank\" class=\"g\" uigs-id=\"footer_private\">\\xe9\\x9a\\x90\\xe7\\xa7\\x81\\xe6\\x94\\xbf\\xe7\\xad\\x96</a><br><span class=\"g\">\\xe8\\x8d\\xaf\\xe5\\x93\\x81\\xe5\\x8c\\xbb\\xe7\\x96\\x97\\xe5\\x99\\xa8\\xe6\\xa2\\xb0\\xe7\\xbd\\x91\\xe7\\xbb\\x9c\\xe4\\xbf\\xa1\\xe6\\x81\\xaf\\xe6\\x9c\\x8d\\xe5\\x8a\\xa1\\xe5\\xa4\\x87\\xe6\\xa1\\x88\\xef\\xbc\\x9a\\xef\\xbc\\x88\\xe4\\xba\\xac\\xef\\xbc\\x89\\xe7\\xbd\\x91\\xe8\\x8d\\xaf\\xe6\\xa2\\xb0\\xe4\\xbf\\xa1\\xe6\\x81\\xaf\\xe5\\xa4\\x87\\xe5\\xad\\x97\\xef\\xbc\\x882021\\xef\\xbc\\x89\\xe7\\xac\\xac00047\\xe5\\x8f\\xb7</span><br>&copy;&nbsp;2004-2024&nbsp;Sogou.com&nbsp;/&nbsp;<a href=\"http://www.12377.cn\" class=\"g\" target=\"_blank\">\\xe7\\xbd\\x91\\xe4\\xb8\\x8a\\xe6\\x9c\\x89\\xe5\\xae\\xb3\\xe4\\xbf\\xa1\\xe6\\x81\\xaf\\xe4\\xb8\\xbe\\xe6\\x8a\\xa5\\xe4\\xb8\\x93\\xe5\\x8c\\xba</a>&nbsp;/&nbsp;<span class=\"g\">\\xe4\\xba\\xac\\xe7\\xbd\\x91\\xe6\\x96\\x87(2019)6117-724\\xe5\\x8f\\xb7</span>&nbsp;/&nbsp;<a class=\"g\" href=\"https://beian.miit.gov.cn/\" target=\"_blank\">\\xe4\\xba\\xacICP\\xe8\\xaf\\x81050897\\xe5\\x8f\\xb7</a>&nbsp;/&nbsp;<a class=\"g\" href=\"https://beian.miit.gov.cn/\" target=\"_blank\">\\xe4\\xba\\xacICP\\xe5\\xa4\\x8711001839\\xe5\\x8f\\xb7-1</a>&nbsp;/&nbsp;<a href=\"http://www.beian.gov.cn/portal/registerSystemInfo?recordcode=11000002000025\" class=\"ba\" target=\"_blank\">\\xe4\\xba\\xac\\xe5\\x85\\xac\\xe7\\xbd\\x91\\xe5\\xae\\x89\\xe5\\xa4\\x8711000002000025\\xe5\\x8f\\xb7</a></div>  <div class=\"fit-older\"></div>  </div> <div class=\"kuozhan\" id=\"QRcode-box\" style=\"display: none;\"><a href=\"javascript:void(0);\" id=\"miniQRcode\"></a><span id=\"QRcode\"></span></div><a href=\"javascript:void(0);\" class=\"back-top\" id=\"back-top\"></a></div><script>var SugPara, uigs_para, msBrowserName = navigator.userAgent.toLowerCase(),msIsSe = false,msIsMSearch = false, hasDoodle = false, queryinput = document.getElementById(\\'query\\');</script><script>/*file=static/js/indexjs.js*/function indexjsInit(e){function o(){try{window.external.metasearch(\"make_connection\",\"www.google.com.hk\")}catch(e){}}uigs_para={uigs_productid:\"webapp\",type:\"webindex_new\",stype:\"nologin\",scrnwi:screen.width,scrnhi:screen.height,uigs_pbtag:\"A\",uigs_cookie:\"SUID,sct\",protocol:\"https:\"==location.protocol.toLowerCase()?\"https\":\"http\"},window.loginCardConfig={},SugPara={queryboxid:\"search-box\",enableSug:!0,sugType:\"web\",domain:\"w.sugg.sogou.com\",productId:\"web\",sugFormName:\"sf\",inputid:\"query\",submitId:\"stb\",suggestRid:\"01015002\",normalRid:\"01019900\",useParent:1,sugglocation:\"index\",showVr:!0,showHotwords:!0,suggAbtestObject:e},/se 2\\\\.x/i.test(msBrowserName)&&(msIsSe=!0),/metasr/i.test(msBrowserName)&&(msIsMSearch=!0),queryinput&&msIsSe&&msIsMSearch&&(queryinput.addEventListener?(queryinput.addEventListener(\"keypress\",o,!1),queryinput.addEventListener(\"keydown\",o,!1)):queryinput.attachEvent?(queryinput.attachEvent(\"onkeypress\",o),queryinput.attachEvent(\"onkeydown\",o)):(queryinput.onkeypress=o,queryinput.onkeydown=o)),window.m_s_index=function(){var e=document.sf.query,o=Math.round(1e3*((new Date).getTime()+Math.random()));e.focus(),new RegExp(\"kw=([^&]+)\").test(location.search)&&0==e.value.length&&(e.value=decodeURIComponent(RegExp.$1)),document.cookie.indexOf(\"SUV=\")<0&&(document.cookie=\"SUV=\"+o+\";path=/;expires=Sun, 29 July 2026 00:00:00 UTC;domain=\"+function(){var e=document.domain;return e.indexOf(\"sogou.com\")==e.length-9?\".sogou.com\":e.indexOf(\"soso.com\")==e.length-8?\".soso.com\":-1!=e.indexOf(\"sogo.com\")?\".sogo.com\":void 0}())},window.st=function(e,o,n,t){var u=document.sf.query,i=encodeURIComponent(u.value),s={news:\"http://news.sogou.com/news?ie=utf8&query=\",web:\"web?ie=utf8&query=\",weixin:\"http://weixin.sogou.com/weixin?type=2&ie=utf8&query=\",zhihu:\"http://zhihu.sogou.com/zhihu?ie=utf8&query=\",pic:\"http://pic.sogou.com/pics?ie=utf8&query=\",video:\"https://v.sogou.com/v?ie=utf8&query=\",myingyi:\"https://www.sogou.com/web?m2web=mingyi.sogou.com&ie=utf8&query=\",overseas:\"http://english.sogou.com?b_o_e=1&ie=utf8&fr=pcweb_index_nav&query=\",scholar:\"http://scholar.sogou.com?ie=utf8&fr=common_index_nav&query=\",fanyi:\"http://fanyi.sogou.com/?fr=common_index_nav_pc&ie=utf8&keyword=\",wenwen:\"http://wenwen.sogou.com/s/?ch=websearch&w=\",hanyu:\"https://hanyu.sogou.com/?query=\",science:\"https://baike.sogou.com/kexue/home.htm?query=\"},r=s[n]||e.href;function c(e){return-1<e.indexOf(\"?\")?\"&\":\"?\"}u&&\"\"!==u.value&&([\"hanyu\"].includes(n)?r=r.match(/.*(?=\\\\?query\\\\=)/)[0]+{hanyu:{index:\"\",result:\"result\"}}[n].result+\"?query=\"+i:s[n]?r=s[n]+i:0<r.indexOf(\"kw=\")?r=r.replace(new RegExp(\"kw=[^&$]*\"),\"kw=\"+i):r+=c(r)+\"kw=\"+i),o&&(r+=c(r)+\"p=\"+o),t&&0<t.length&&(r+=\"#\"+t),!u||\"\"!=u.value||\"wenwen\"!=n&&\"science\"!=n||(r=e.href),e.href=r},window.cid=function(e,o){var n=document.sf.query,t=encodeURIComponent(n.value);t?\"web2ww\"===o?e.href+=\"s/?cid=web2ww&w=\"+t:\"web2bk\"===o&&(e.href+=\"Search.e?sp=S\"+t+\"&cid=web2bk\"):e.href+=\"?cid=\"+o},window.m_s_index()}indexjsInit({\"suggestHistoryStrategy1\":\"\",\"suggestHistoryStrategy2\":\"0|1|2|3|4|5|6|7|8\",\"suggHistoryAbtest\":\"\"});</script><script src=\"//dlweb.sogoucdn.com/pcsearch/js/jquery-1.11.0.min_8fc25e2.js\"></script><script src=\"//dlweb.sogoucdn.com/pcsearch/js/lib/jquery.mousewheel.min_639d1c3.js\"></script><script src=\"//dlweb.sogoucdn.com/pcsearch/js/lib/juicer-min_2a2bf35.js\"></script><script src=\"//dlweb.sogoucdn.com/pcsearch/js/pb_v.1.9.6.min_2030e16.js\"></script><script src=\"//search.sogoucdn.com/websearch/pc/static/js/sugg.cf3d4a4f.js\"></script><script src=\"//dlweb.sogoucdn.com/pcsearch/web/index/js/searchbase_453304b.js\"></script>  <script defer=\"defer\" async type=\"text/javascript\" src=\"//dlweb.sogoucdn.com/barrier_free/pc/wzaV15/aria.js?appid=c4d5562ec7daa12a5a351cbe1a292da1\" charset=\"utf-8\"></script></body></html><!--zly-->'\n",
      "--------------------------------------------------\n",
      "{'Server': 'nginx', 'Date': 'Fri, 13 Sep 2024 15:41:51 GMT', 'Content-Type': 'text/html; charset=utf-8', 'Transfer-Encoding': 'chunked', 'Connection': 'keep-alive', 'Vary': 'Accept-Encoding', 'Set-Cookie': 'ABTEST=0|1726242111|v17; expires=Sun, 13-Oct-24 15:41:51 GMT; path=/, IPLOC=CN3201; expires=Sat, 13-Sep-25 15:41:51 GMT; domain=.sogou.com; path=/, SUID=63435EDE1AA7A20B0000000066E45D3F; expires=Thu, 08-Sep-2044 15:41:51 GMT; domain=.sogou.com; path=/, cuid=AAGsMKqiTgAAAAuiptpipgEAEAM=; path=/; expires=Mon, 13 Sep 2027 15:41:51 GMT; domain=.sogou.com', 'P3P': 'CP=\"CURa ADMa DEVa PSAo PSDo OUR BUS UNI PUR INT DEM STA PRE COM NAV OTC NOI DSP COR\", CP=\"CURa ADMa DEVa PSAo PSDo OUR BUS UNI PUR INT DEM STA PRE COM NAV OTC NOI DSP COR\", CP=\"CURa ADMa DEVa PSAo PSDo OUR BUS UNI PUR INT DEM STA PRE COM NAV OTC NOI DSP COR\"', 'Pragma': 'No-cache', 'Cache-Control': 'max-age=0', 'Expires': 'Fri, 13 Sep 2024 15:41:51 GMT', 'UUID': '96968650-3703-4437-8714-5608bb752b8e', 'Content-Encoding': 'gzip'}\n",
      "--------------------------------------------------\n",
      "200\n",
      "--------------------------------------------------\n",
      "https://www.sogou.com/\n"
     ]
    }
   ],
   "source": [
    "import requests\n",
    "\n",
    "url = 'https://www.sogou.com/'  # 指定URL #\n",
    "response = requests.get(url = url)  # 发送 GET请求并返回响应对象 #\n",
    "\n",
    "print(response.text)\n",
    "print('--------------------------------------------------')\n",
    "print(response.content)\n",
    "print('--------------------------------------------------')\n",
    "print(response.headers)\n",
    "print('--------------------------------------------------')\n",
    "print(response.status_code)\n",
    "print('--------------------------------------------------')\n",
    "print(response.url)"
   ]
  },
  {
   "cell_type": "markdown",
   "id": "13223799-2008-4704-bdd9-7b2fe7b1671f",
   "metadata": {},
   "source": [
    "### 请求体的一些参数 Requests\n",
    "- url：网页地址\n",
    "- params：携带参数 多为字典格式\n",
    "- headers：请求头\n",
    "#### 以搜狗搜索引擎为例爬取不同内容POST请求的信息"
   ]
  },
  {
   "cell_type": "code",
   "execution_count": 2,
   "id": "552fb9ac-36cd-4a72-af56-05a785ba9c6a",
   "metadata": {},
   "outputs": [
    {
     "name": "stdin",
     "output_type": "stream",
     "text": [
      "What are you search?  NAU\n"
     ]
    },
    {
     "name": "stdout",
     "output_type": "stream",
     "text": [
      "Save Success\n"
     ]
    }
   ],
   "source": [
    "import requests\n",
    "\n",
    "search = input('What are you search? ')\n",
    "url = 'https://www.sogou.com/web'  # 指定URL #\n",
    "params = {  # 携带参数字典 #\n",
    "    'query': search,\n",
    "    'ie': 'UTF-8'\n",
    "}\n",
    "headers = {  # 设置请求头 #\n",
    "    'User-Agent': 'Mozilla/5.0 (Windows NT 10.0; Win64; x64) AppleWebKit/537.36 (KHTML, like Gecko) Chrome/128.0.0.0 Safari/537.36 Edg/128.0.0.0'\n",
    "}\n",
    "response = requests.get(url = url, params = params, headers = headers)  # 发送 GET请求并返回响应对象 #\n",
    "page_text = response.text  # 获取字符串类型的页面数据 #\n",
    "text_name = 'Save_files/Sougou_' + search + '.html'  # 本地文件名 #\n",
    "with open(text_name, 'w', encoding = 'UTF-8') as fp:\n",
    "    fp.write(page_text)  # 存储本地文件 # \n",
    "    print('Save Success')"
   ]
  },
  {
   "cell_type": "markdown",
   "id": "0a3330ac-3f87-422c-9982-7d7723dc4cd7",
   "metadata": {},
   "source": [
    "### POST请求的实现\n",
    "- 指定URL\n",
    "- 自定义携带参数\n",
    "#### 以百度翻译为例爬取自定义翻译内容的信息"
   ]
  },
  {
   "cell_type": "code",
   "execution_count": 22,
   "id": "bb83a83a-a9b0-4337-8cd6-312e0e5a1453",
   "metadata": {},
   "outputs": [
    {
     "name": "stdin",
     "output_type": "stream",
     "text": [
      "What are you search?  水果\n"
     ]
    },
    {
     "name": "stdout",
     "output_type": "stream",
     "text": [
      "{\"errno\":0,\"data\":[{\"k\":\"\\u6c34\\u679c\",\"v\":\"fruit; fruitage\"},{\"k\":\"\\u6c34\\u679c\\u51bb\",\"v\":\"\\u540d. Fruit jelly\"},{\"k\":\"\\u6c34\\u679c\\u5200\",\"v\":\"fruit knife\"},{\"k\":\"\\u6c34\\u679c\\u53c9\",\"v\":\"fruit fork\"},{\"k\":\"\\u6c34\\u679c\\u5e97\",\"v\":\"fruit shop;fruit store\"}],\"logid\":441324850}\n"
     ]
    }
   ],
   "source": [
    "import requests\n",
    "\n",
    "url = 'https://fanyi.baidu.com/sug'\n",
    "word = input('What are you search? ')\n",
    "\n",
    "data = {  # 自定义POST请求参数内容 #\n",
    "    'kw': word\n",
    "}\n",
    "response = requests.post(url = url, data = data)\n",
    "page_text = response.text\n",
    "print(page_text)"
   ]
  },
  {
   "cell_type": "markdown",
   "id": "6887929e-c87f-4ca8-8434-bd985a39b129",
   "metadata": {},
   "source": [
    "### 异步（Ajax）的GET请求的实现\n",
    "- 指定URL\n",
    "- 自定义携带参数\n",
    "- 自定义请求头\n",
    "#### 以豆瓣网为例爬取电影排行榜的搜索页面信息"
   ]
  },
  {
   "cell_type": "code",
   "execution_count": 2,
   "id": "e38fb664-10eb-40cd-9f60-d9043f52dc07",
   "metadata": {
    "collapsed": true,
    "jupyter": {
     "outputs_hidden": true
    }
   },
   "outputs": [
    {
     "name": "stdout",
     "output_type": "stream",
     "text": [
      "[{\"rating\":[\"8.8\",\"45\"],\"rank\":41,\"cover_url\":\"https://img1.doubanio.com\\/view\\/photo\\/s_ratio_poster\\/public\\/p2154212680.jpg\",\"is_playable\":false,\"id\":\"1418834\",\"types\":[\"剧情\",\"爱情\",\"同性\",\"家庭\"],\"regions\":[\"美国\",\"加拿大\"],\"title\":\"断背山\",\"url\":\"https:\\/\\/movie.douban.com\\/subject\\/1418834\\/\",\"release_date\":\"2005-09-02\",\"actor_count\":17,\"vote_count\":741234,\"score\":\"8.8\",\"actors\":[\"希斯·莱杰\",\"杰克·吉伦哈尔\",\"米歇尔·威廉姆斯\",\"安妮·海瑟薇\",\"凯特·玛拉\",\"兰迪·奎德\",\"琳达·卡德里尼\",\"安娜·法瑞丝\",\"格拉汉姆·贝克尔\",\"斯科特·迈克尔·坎贝尔\",\"大卫·哈伯\",\"罗伯塔·马克斯韦尔\",\"皮特·麦克罗比\",\"夏恩·希尔\",\"布鲁克琳·普劳克斯\",\"杰克·丘奇\",\"罗德里戈·普列托\"],\"is_watched\":false},{\"rating\":[\"8.8\",\"45\"],\"rank\":42,\"cover_url\":\"https://img9.doubanio.com\\/view\\/photo\\/s_ratio_poster\\/public\\/p2555762374.jpg\",\"is_playable\":true,\"id\":\"1296339\",\"types\":[\"剧情\",\"爱情\"],\"regions\":[\"美国\",\"奥地利\",\"瑞士\"],\"title\":\"爱在黎明破晓前\",\"url\":\"https:\\/\\/movie.douban.com\\/subject\\/1296339\\/\",\"release_date\":\"1995-01-27\",\"actor_count\":18,\"vote_count\":735988,\"score\":\"8.8\",\"actors\":[\"伊桑·霍克\",\"朱莉·德尔佩\",\"安德莉亚·埃克特\",\"汉诺·波西尔\",\"卡尔·布拉克施魏格尔\",\"特克斯·鲁比诺威茨\",\"埃尔尼·曼戈尔德\",\"多米尼克·卡斯特尔\",\"海蒙·玛丽亚·巴汀格\",\"哈拉尔德·魏格莱因\",\"汉斯·魏因加特纳\",\"彼得·艾利·休默\",\"休伯特·法比安·库尔特勒\",\"约翰·斯洛斯\",\"克里斯蒂安·安科维奇\",\"亚当·戈德堡\",\"保罗·波伊特\",\"金·克里桑\"],\"is_watched\":false},{\"rating\":[\"8.8\",\"45\"],\"rank\":43,\"cover_url\":\"https://img9.doubanio.com\\/view\\/photo\\/s_ratio_poster\\/public\\/p2070153774.jpg\",\"is_playable\":true,\"id\":\"10577869\",\"types\":[\"喜剧\",\"爱情\",\"奇幻\"],\"regions\":[\"英国\",\"美国\"],\"title\":\"时空恋旅人\",\"url\":\"https:\\/\\/movie.douban.com\\/subject\\/10577869\\/\",\"release_date\":\"2013-09-04\",\"actor_count\":45,\"vote_count\":728185,\"score\":\"8.8\",\"actors\":[\"多姆纳尔·格里森\",\"瑞秋·麦克亚当斯\",\"比尔·奈伊\",\"莉迪亚·威尔逊\",\"琳赛·邓肯\",\"理查德·科德里\",\"约书亚·麦圭尔\",\"汤姆·霍兰德尔\",\"玛格特·罗比\",\"维尔·梅里克\",\"凡妮莎·柯比\",\"汤姆·休斯\",\"哈利·海顿-佩顿\",\"米切尔·马伦\",\"丽莎·艾科恩\",\"珍妮·莱恩斯福德\",\"菲利普-沃斯\",\"凯瑟琳·斯戴曼\",\"汤姆·斯托顿\",\"安部春香\",\"李·阿斯奎斯-柯\",\"理查德·班克斯\",\"保罗·布莱克维尔\",\"贝恩·科拉科\",\"格拉姆·柯里\",\"罗薇娜·戴蒙德\",\"约翰·达根\",\"迪诺·法赞尼\",\"内芙·加切夫\",\"理查德·E·格兰特\",\"理查德·格雷弗斯\",\"李·尼古拉斯·哈里斯\",\"理查德·赫德曼\",\"李仙湖\",\"马修·C·马蒂诺\",\"马汀·麦格\",\"艾莉克丝·摩尔\",\"艾薇·维\",\"艾莎·哈特\",\"黛博拉·罗桑\",\"弗朗西斯卡·祖琪妮\",\"朱莉·沃洛诺\",\"阿曼达·伦贝里\",\"尼可拉·芬恩\",\"Natasha Powell\"],\"is_watched\":false},{\"rating\":[\"8.8\",\"45\"],\"rank\":44,\"cover_url\":\"https://img3.doubanio.com\\/view\\/photo\\/s_ratio_poster\\/public\\/p854757687.jpg\",\"is_playable\":true,\"id\":\"1292274\",\"types\":[\"喜剧\",\"剧情\",\"爱情\"],\"regions\":[\"美国\"],\"title\":\"幸福终点站\",\"url\":\"https:\\/\\/movie.douban.com\\/subject\\/1292274\\/\",\"release_date\":\"2005-01-14\",\"actor_count\":53,\"vote_count\":604997,\"score\":\"8.8\",\"actors\":[\"汤姆·汉克斯\",\"凯瑟琳·泽塔-琼斯\",\"斯坦利·图齐\",\"齐·麦克布赖德\",\"迭戈·卢纳\",\"巴里·沙巴卡·亨利\",\"库玛·帕拉纳\",\"佐伊·索尔达娜\",\"埃迪·琼斯\",\"祖德·塞克利拉\",\"科瑞·雷诺兹\",\"吉列尔莫·迪亚兹\",\"里尼·贝尔\",\"瓦列里·尼古拉耶夫\",\"迈克尔·诺里\",\"鲍勃·莫里西\",\"萨沙·斯皮尔伯格\",\"苏珊·索洛米\",\"卡尔利斯·布克\",\"斯蒂芬·富勒\",\"丹·芬纳蒂\",\"莉迪亚·布兰科\",\"肯尼斯·崔\",\"卡斯·安瓦尔\",\"康拉德·皮拉\",\"杜桑恩·杜基齐\",\"马克·伊瓦涅\",\"Benny Golson\",\"斯科特·安第斯\",\"罗伯特·科瓦吕比亚\",\"Dilva Henry\",\"卡尔艾拉切\",\"哈亚提·阿克巴斯\",\"艾力克斯·伯恩斯\",\"埃莱娜·卡多纳\",\"Dan Chase\",\"查得·R·戴维斯\",\"安东内拉·埃莉亚\",\"Michael Eliopoulos\",\"马斯顿·福布斯\",\"Riad Galayini\",\"杰拉德·加纳\",\"贾斯汀·罗杰斯豪尔\",\"穆罕默德·哈桑\",\"Amber Havens\",\"Ksenia Jarova\",\"巴里·朱利安\",\"Svilena Kidess\",\"Zuzana Monroe\",\"艾丽西亚·奥奇瑟\",\"本杰明·奥切恩格\",\"梅尔·罗德里格斯\",\"阿尼·萨瓦\"],\"is_watched\":false},{\"rating\":[\"8.8\",\"45\"],\"rank\":45,\"cover_url\":\"https://img9.doubanio.com\\/view\\/photo\\/s_ratio_poster\\/public\\/p692813374.jpg\",\"is_playable\":true,\"id\":\"1291545\",\"types\":[\"剧情\",\"爱情\",\"奇幻\",\"冒险\"],\"regions\":[\"美国\"],\"title\":\"大鱼\",\"url\":\"https:\\/\\/movie.douban.com\\/subject\\/1291545\\/\",\"release_date\":\"2003-12-04\",\"actor_count\":27,\"vote_count\":596266,\"score\":\"8.8\",\"actors\":[\"伊万·麦克格雷格\",\"阿尔伯特·芬尼\",\"比利·克鲁德普\",\"杰西卡·兰格\",\"海伦娜·伯翰·卡特\",\"艾莉森·洛曼\",\"罗伯特·吉尔劳姆\",\"玛丽昂·歌迪亚\",\"马修·麦克格罗里\",\"大卫·丹曼\",\"米西·派勒\",\"卢顿·万恩怀特三世\",\"艾达·泰\",\"艾伦妮·泰\",\"史蒂夫·布西密\",\"丹尼·德维托\",\"迪普·罗伊\",\"Perry Walston\",\"海利·安妮·内尔森\",\"Grayson Stone\",\"麦莉·赛勒斯\",\"拉塞尔·霍奇金森\",\"崔沃·加格农\",\"R.基斯·哈里斯\",\"扎克·哈内尔\",\"加里·牛顿\",\"邦妮·约翰逊\"],\"is_watched\":false},{\"rating\":[\"8.8\",\"45\"],\"rank\":46,\"cover_url\":\"https://img3.doubanio.com\\/view\\/photo\\/s_ratio_poster\\/public\\/p1675053073.jpg\",\"is_playable\":true,\"id\":\"5989818\",\"types\":[\"剧情\",\"爱情\",\"动画\",\"奇幻\"],\"regions\":[\"日本\"],\"title\":\"萤火之森\",\"url\":\"https:\\/\\/movie.douban.com\\/subject\\/5989818\\/\",\"release_date\":\"2011-09-17\",\"actor_count\":7,\"vote_count\":573882,\"score\":\"8.8\",\"actors\":[\"佐仓绫音\",\"内山昂辉\",\"辻亲八\",\"山本兼平\",\"后藤弘树\",\"今井麻美\",\"田谷隼\"],\"is_watched\":false},{\"rating\":[\"8.8\",\"45\"],\"rank\":47,\"cover_url\":\"https://img9.doubanio.com\\/view\\/photo\\/s_ratio_poster\\/public\\/p792502535.jpg\",\"is_playable\":true,\"id\":\"3726072\",\"types\":[\"剧情\",\"动作\",\"爱情\"],\"regions\":[\"中国香港\",\"中国大陆\",\"中国台湾\"],\"title\":\"东邪西毒：终极版\",\"url\":\"https:\\/\\/movie.douban.com\\/subject\\/3726072\\/\",\"release_date\":\"2009-03-26\",\"actor_count\":11,\"vote_count\":211494,\"score\":\"8.8\",\"actors\":[\"张国荣\",\"林青霞\",\"梁朝伟\",\"张学友\",\"张曼玉\",\"刘嘉玲\",\"梁家辉\",\"杨采妮\",\"白丽\",\"廖静妮\",\"邹兆龙\"],\"is_watched\":false},{\"rating\":[\"9.2\",\"50\"],\"rank\":48,\"cover_url\":\"https://img2.doubanio.com\\/view\\/photo\\/s_ratio_poster\\/public\\/p1581774481.jpg\",\"is_playable\":true,\"id\":\"1298817\",\"types\":[\"喜剧\",\"爱情\",\"西部\",\"冒险\"],\"regions\":[\"美国\"],\"title\":\"淘金记\",\"url\":\"https:\\/\\/movie.douban.com\\/subject\\/1298817\\/\",\"release_date\":\"1925-06-26\",\"actor_count\":47,\"vote_count\":63426,\"score\":\"9.2\",\"actors\":[\"查理·卓别林\",\"马克·斯旺\",\"汤姆·默里\",\"亨利·伯格曼\",\"Malcolm Waite\",\"乔治亚·黑尔\",\"Jack Adams\",\"Sam Allen\",\"Harry Arras\",\"艾伯特·奥斯汀\",\"Marta Belfort\",\"George Brock\",\"海尼·康克林\",\"凯·德利斯\",\"James Dime\",\"Leon Farey\",\"Charles Force\",\"J.C. Fowler\",\"阿尔·欧内斯特·加西亚\",\"Inez Gomez\",\"希德·格鲁曼\",\"丽塔·格雷\",\"雷·格雷\",\"F.F. Guenste\",\"Jack Herrick\",\"George Holt\",\"Jean Huntley\",\"Gladys Johnston\",\"Fred Karno Jr.\",\"Elias Lazaroff\",\"Joan Lowell\",\"Chris-Pin Martin\",\"Clyde McAtee\",\"John Millerta\",\"贝蒂莫里西\",\"Florence Murth\",\"约翰兰德\",\"蒂尼·桑福德\",\"Frank Stockdale\",\"Frank Rice\",\"Lillian Rosine\",\"C.F. Roark\",\"Armand Triller\",\"John Wallace\",\"Tom Wood\",\"Ed Wilson\",\"Bess Wade\"],\"is_watched\":false},{\"rating\":[\"8.8\",\"45\"],\"rank\":49,\"cover_url\":\"https://img1.doubanio.com\\/view\\/photo\\/s_ratio_poster\\/public\\/p2351134499.jpg\",\"is_playable\":true,\"id\":\"1293964\",\"types\":[\"剧情\",\"爱情\",\"战争\"],\"regions\":[\"美国\"],\"title\":\"魂断蓝桥\",\"url\":\"https:\\/\\/movie.douban.com\\/subject\\/1293964\\/\",\"release_date\":\"1940-05-17\",\"actor_count\":61,\"vote_count\":294166,\"score\":\"8.8\",\"actors\":[\"费雯·丽\",\"罗伯特·泰勒\",\"露塞尔·沃特森\",\"弗吉尼亚·菲尔德\",\"玛丽亚·彭斯卡娅\",\"C.奥布雷·史密斯\",\"Janet Shaw\",\"Janet Waldo\",\"Steffi Duna\",\"Virginia Carroll\",\"Eleanor Stewart\",\"Lowden Adams\",\"Harry Allen\",\"Jimmy Aubrey\",\"Phyllis Barry\",\"Colin Campbell\",\"丽塔·卡莱尔\",\"里奥.G.卡罗尔\",\"戴维·卡文迪什\",\"大卫·克莱德\",\"汤姆·康威\",\"Frank Dawson\",\"Connie Emerald\",\"吉尔伯特·埃默里\",\"赫伯特·埃文斯\",\"迪克·戈登\",\"Denis Green\",\"艾塞尔·格里菲斯\",\"Bobby Hale\",\"Winifred Harris\",\"哈利韦尔·霍布斯\",\"Harold Howard\",\"Charles Irwin\",\"George Kirby\",\"Walter Lawrence\",\"威尔弗雷德·卢卡斯\",\"Dan Maxwell\",\"James May\",\"Florine McKinney\",\"Charles McNaughton\",\"Frank Mitchell\",\"埃德蒙·莫蒂默\",\"伦纳德米迪\",\"坦普·皮戈特\",\"约翰·鲍尔\",\"Clara Reid\",\"Paul Scardon\",\"约翰·格雷厄姆·斯佩西\",\"Wyndham Standing\",\"哈里·斯塔布斯\",\"Cyril Thornton\",\"戴维·瑟斯比\",\"诺玛·威登\",\"帕特·威尔士\",\"玛莎·温特沃思\",\"Frank Whitbeck\",\"Eric Wilton\",\"罗伯特·温克勒\",\"道格拉斯·伍德\",\"丁建华\",\"乔榛\"],\"is_watched\":false},{\"rating\":[\"8.8\",\"45\"],\"rank\":50,\"cover_url\":\"https://img9.doubanio.com\\/view\\/photo\\/s_ratio_poster\\/public\\/p2215102596.jpg\",\"is_playable\":true,\"id\":\"1307394\",\"types\":[\"动画\",\"剧情\",\"爱情\"],\"regions\":[\"日本\"],\"title\":\"千年女优\",\"url\":\"https:\\/\\/movie.douban.com\\/subject\\/1307394\\/\",\"release_date\":\"2001-07-28\",\"actor_count\":25,\"vote_count\":293039,\"score\":\"8.8\",\"actors\":[\"庄司美代子\",\"小山茉美\",\"折笠富美子\",\"饭塚昭三\",\"小野坂昌也\",\"津田匠子\",\"铃置洋孝\",\"京田尚子\",\"德丸完\",\"片冈富枝\",\"石森达幸\",\"佐藤政道\",\"小形满\",\"麻生智久\",\"游佐浩二\",\"肥后诚\",\"坂口候一\",\"志村知幸\",\"木村亚希子\",\"佐伯志\",\"野岛裕史\",\"浅野琉璃\",\"园部好德\",\"山寺宏一\",\"津嘉山正种\"],\"is_watched\":false},{\"rating\":[\"8.7\",\"45\"],\"rank\":51,\"cover_url\":\"https://img9.doubanio.com\\/view\\/photo\\/s_ratio_poster\\/public\\/p2357915564.jpg\",\"is_playable\":true,\"id\":\"1306249\",\"types\":[\"喜剧\",\"爱情\",\"古装\"],\"regions\":[\"中国香港\"],\"title\":\"唐伯虎点秋香\",\"url\":\"https:\\/\\/movie.douban.com\\/subject\\/1306249\\/\",\"release_date\":\"1993-07-01\",\"actor_count\":33,\"vote_count\":1146762,\"score\":\"8.7\",\"actors\":[\"周星驰\",\"巩俐\",\"陈百祥\",\"郑佩佩\",\"朱咪咪\",\"梁家仁\",\"苑琼丹\",\"梁荣忠\",\"黄一山\",\"黄霑\",\"吴镇宇\",\"刘家辉\",\"蓝洁瑛\",\"谷德昭\",\"陈辉虹\",\"李健仁\",\"宣萱\",\"温翠苹\",\"李家声\",\"姜皓文\",\"李绮霞\",\"朱铁和\",\"平田广明\",\"刘小芸\",\"黎彼得\",\"黄凤琼\",\"何英伟\",\"曾健明\",\"王伟梁\",\"贾天怡\",\"陈家碧\",\"林威\",\"刘锡贤\"],\"is_watched\":false},{\"rating\":[\"8.7\",\"45\"],\"rank\":52,\"cover_url\":\"https://img9.doubanio.com\\/view\\/photo\\/s_ratio_poster\\/public\\/p453716305.jpg\",\"is_playable\":false,\"id\":\"1828115\",\"types\":[\"剧情\",\"爱情\",\"情色\"],\"regions\":[\"中国台湾\",\"中国大陆\",\"美国\",\"中国香港\"],\"title\":\"色，戒\",\"url\":\"https:\\/\\/movie.douban.com\\/subject\\/1828115\\/\",\"release_date\":\"2007-11-01\",\"actor_count\":23,\"vote_count\":883891,\"score\":\"8.7\",\"actors\":[\"梁朝伟\",\"汤唯\",\"陈冲\",\"王力宏\",\"庹宗华\",\"朱芷莹\",\"高英轩\",\"柯宇纶\",\"阮德锵\",\"钱嘉乐\",\"苏岩\",\"何赛飞\",\"宋茹惠\",\"樊光耀\",\"卢燕\",\"刘洁\",\"余娅\",\"王琳\",\"王侃\",\"竹下明子\",\"阿努潘·凯尔\",\"韦奕波\",\"唐亚俊\"],\"is_watched\":false},{\"rating\":[\"8.7\",\"45\"],\"rank\":53,\"cover_url\":\"https://img3.doubanio.com\\/view\\/photo\\/s_ratio_poster\\/public\\/p480956937.jpg\",\"is_playable\":true,\"id\":\"1292370\",\"types\":[\"剧情\",\"爱情\",\"奇幻\"],\"regions\":[\"美国\"],\"title\":\"剪刀手爱德华\",\"url\":\"https:\\/\\/movie.douban.com\\/subject\\/1292370\\/\",\"release_date\":\"1990-12-06\",\"actor_count\":33,\"vote_count\":1077251,\"score\":\"8.7\",\"actors\":[\"约翰尼·德普\",\"薇诺娜·瑞德\",\"黛安·韦斯特\",\"安东尼·迈克尔·豪尔\",\"凯西·贝克\",\"罗伯特·奥利维里\",\"康查塔·费雷尔\",\"卡罗琳·阿隆\",\"迪克·安东尼·威廉姆斯\",\"澳澜·琼斯\",\"文森特·普莱斯\",\"艾伦·阿金\",\"苏珊·布洛马特\",\"Linda Perri\",\"约翰·戴维森\",\"Biff Yeager\",\"Marti Greenberg\",\"布莱恩·拉肯\",\"John McMahon\",\"Victoria Price\",\"Stuart Lancaster\",\"Gina Gallagher\",\"阿隆·鲁斯汀\",\"阿兰·弗吉\",\"史蒂文·布里尔\",\"Peter Palmer\",\"马克·麦考利\",\"唐娜·派洛尼\",\"Ken DeVaul\",\"Kathy Dombo\",\"Tabetha Thomas\",\"尼克·卡特\",\"布雷特·赖斯\"],\"is_watched\":false},{\"rating\":[\"8.7\",\"45\"],\"rank\":54,\"cover_url\":\"https://img3.doubanio.com\\/view\\/photo\\/s_ratio_poster\\/public\\/p2447590313.jpg\",\"is_playable\":true,\"id\":\"1292215\",\"types\":[\"剧情\",\"喜剧\",\"爱情\"],\"regions\":[\"法国\",\"德国\"],\"title\":\"天使爱美丽\",\"url\":\"https:\\/\\/movie.douban.com\\/subject\\/1292215\\/\",\"release_date\":\"2001-04-25\",\"actor_count\":30,\"vote_count\":985841,\"score\":\"8.7\",\"actors\":[\"奥黛丽·塔图\",\"马修·卡索维茨\",\"吕菲斯\",\"洛莱拉·克拉沃塔\",\"塞尔·梅林\",\"贾梅尔·杜布兹\",\"克洛蒂尔德·莫莱特\",\"克莱尔·莫里耶\",\"伊莎贝尔·南蒂\",\"多米尼克·皮侬\",\"阿尔蒂斯·德·彭居埃恩\",\"友兰达·梦露\",\"于尔班·康塞利埃\",\"莫里斯·贝尼舒\",\"米歇尔·罗班\",\"安德烈·达芒\",\"克洛德·佩隆\",\"阿尔梅尔\",\"迪基·奥尔加多\",\"凯文·迪亚士\",\"弗洛拉·吉耶\",\"阿莫里·巴博尔\",\"欧仁·贝蒂埃\",\"让·达里\",\"马克·阿米约\",\"菲利普·博蒂埃\",\"林原惠美\",\"多米尼克·贝特费德\",\"姜广涛\",\"安德烈·杜索里埃\"],\"is_watched\":false},{\"rating\":[\"8.7\",\"45\"],\"rank\":55,\"cover_url\":\"https://img1.doubanio.com\\/view\\/photo\\/s_ratio_poster\\/public\\/p2016401659.jpg\",\"is_playable\":true,\"id\":\"1418200\",\"types\":[\"剧情\",\"爱情\"],\"regions\":[\"法国\",\"英国\",\"美国\"],\"title\":\"傲慢与偏见\",\"url\":\"https:\\/\\/movie.douban.com\\/subject\\/1418200\\/\",\"release_date\":\"2005-09-16\",\"actor_count\":25,\"vote_count\":856892,\"score\":\"8.7\",\"actors\":[\"凯拉·奈特莉\",\"马修·麦克费登\",\"唐纳德·萨瑟兰\",\"布兰达·布莱斯\",\"凯瑞·穆里根\",\"裴淳华\",\"吉娜·马隆\",\"妲露拉·莱莉\",\"朱迪·丹奇\",\"西蒙·伍兹\",\"克劳迪·布莱克利\",\"汤姆·霍兰德尔\",\"鲁伯特·弗兰德\",\"凯利·蕾莉\",\"皮普·托伦斯\",\"西妮德·马修斯\",\"佩内洛普·威尔顿\",\"塔姆金·莫钦特\",\"利亚姆·托马斯\",\"Samantha Bloom\",\"汤姆·霍兰德\",\"莫亚布雷迪\",\"梅格·韦恩·欧文\",\"彼得·怀特\",\"Roy Holder\"],\"is_watched\":false},{\"rating\":[\"8.7\",\"45\"],\"rank\":56,\"cover_url\":\"https://img1.doubanio.com\\/view\\/photo\\/s_ratio_poster\\/public\\/p1421018669.jpg\",\"is_playable\":true,\"id\":\"1292287\",\"types\":[\"动作\",\"爱情\",\"武侠\",\"古装\"],\"regions\":[\"中国香港\",\"中国大陆\"],\"title\":\"新龙门客栈\",\"url\":\"https:\\/\\/movie.douban.com\\/subject\\/1292287\\/\",\"release_date\":\"2012-02-24\",\"actor_count\":22,\"vote_count\":472477,\"score\":\"8.7\",\"actors\":[\"张曼玉\",\"林青霞\",\"梁家辉\",\"甄子丹\",\"熊欣欣\",\"刘洵\",\"任世官\",\"吴启华\",\"袁祥仁\",\"徐锦江\",\"郑希怡\",\"王彤川\",\"王伟顺\",\"蔡浩\",\"元彬\",\"陈志辉\",\"邢金沙\",\"施懿\",\"冯雪瑞\",\"廖静妮\",\"魏晶琦\",\"陶令昌\"],\"is_watched\":false},{\"rating\":[\"8.8\",\"45\"],\"rank\":57,\"cover_url\":\"https://img3.doubanio.com\\/view\\/photo\\/s_ratio_poster\\/public\\/p2021127692.jpg\",\"is_playable\":true,\"id\":\"10484041\",\"types\":[\"剧情\",\"爱情\"],\"regions\":[\"日本\"],\"title\":\"横道世之介\",\"url\":\"https:\\/\\/movie.douban.com\\/subject\\/10484041\\/\",\"release_date\":\"2013-02-23\",\"actor_count\":18,\"vote_count\":183353,\"score\":\"8.8\",\"actors\":[\"高良健吾\",\"吉高由里子\",\"池松壮亮\",\"伊藤步\",\"绫野刚\",\"井浦新\",\"国村隼\",\"堀内敬子\",\"古关安广\",\"余贵美子\",\"朝仓亚纪\",\"柄本佑\",\"江口德子\",\"佐津川爱美\",\"真岛秀和\",\"黑川芽以\",\"涩川清彦\",\"中岛步\"],\"is_watched\":false},{\"rating\":[\"9.2\",\"50\"],\"rank\":58,\"cover_url\":\"https://img3.doubanio.com\\/view\\/photo\\/s_ratio_poster\\/public\\/p1339915772.jpg\",\"is_playable\":true,\"id\":\"1303418\",\"types\":[\"喜剧\",\"爱情\",\"战争\"],\"regions\":[\"美国\"],\"title\":\"你逃我也逃\",\"url\":\"https:\\/\\/movie.douban.com\\/subject\\/1303418\\/\",\"release_date\":\"1942-03-06\",\"actor_count\":49,\"vote_count\":53452,\"score\":\"9.2\",\"actors\":[\"卡洛·朗白\",\"杰克·本尼\",\"罗伯特·斯塔克\",\"菲利克斯·布雷萨特\",\"莱昂内尔·阿特威尔\",\"斯坦利·里吉斯\",\"西戈·鲁曼\",\"查尔斯·霍尔顿\",\"George Lynn\",\"Henry Victor\",\"Maude Eburne\",\"哈利韦尔·霍布斯\",\"迈尔斯·曼德\",\"鲁道夫·安德斯\",\"Sven Hugo Borg\",\"丹尼·鲍沙其\",\"巴斯特·布罗迪\",\"Alec Craig\",\"赫尔穆特·丹丁\",\"Jack Deery\",\"Leslie Denison\",\"詹姆斯·芬利森\",\"贝丝·弗劳尔斯\",\"Stuart Hall\",\"莱兰·霍奇森\",\"Shep Houghton\",\"奥拉夫·许滕\",\"Charles Irwin\",\"Tiny Jones\",\"约翰·凯洛格\",\"Adolf E. Licho\",\"Wilbur Mack\",\"John Meredith\",\"Maurice Murphy\",\"Richard Neill\",\"拉斯·鲍威尔\",\"弗兰克·雷歇尔\",\"Otto Reichow\",\"Gene Rizzi\",\"John Roy\",\"Hans Schumm\",\"Stephen Soldi\",\"Count Stefenelli\",\"罗兰德·瓦尔诺\",\"Ernö Verebes\",\"Dorothy Vernon\",\"Armand 'Curly' Wright\",\"Wolfgang Zilzer\",\"汤姆·杜根\"],\"is_watched\":false},{\"rating\":[\"8.7\",\"45\"],\"rank\":59,\"cover_url\":\"https://img2.doubanio.com\\/view\\/photo\\/s_ratio_poster\\/public\\/p1900812761.jpg\",\"is_playable\":true,\"id\":\"6860160\",\"types\":[\"剧情\",\"爱情\",\"歌舞\"],\"regions\":[\"英国\",\"美国\"],\"title\":\"悲惨世界\",\"url\":\"https:\\/\\/movie.douban.com\\/subject\\/6860160\\/\",\"release_date\":\"2013-02-28\",\"actor_count\":58,\"vote_count\":351491,\"score\":\"8.7\",\"actors\":[\"休·杰克曼\",\"罗素·克劳\",\"安妮·海瑟薇\",\"阿曼达·塞弗里德\",\"萨莎·拜伦·科恩\",\"海伦娜·伯翰·卡特\",\"埃迪·雷德梅恩\",\"艾伦·特维特\",\"萨曼莎·巴克斯\",\"丹尼尔·赫特斯通\",\"约瑟夫·阿尔京\",\"理查德·迪克森\",\"安迪·比克维奇\",\"康姆·威尔金森\",\"希瑟·切森\",\"保罗·索恩利\",\"迈克尔·吉普森\",\"凯特·弗利特伍德\",\"汉娜·沃丁厄姆\",\"博迪·卡维尔\",\"蒂姆·唐尼\",\"安德鲁·哈维尔\",\"丹尼尔·伊万斯\",\"杰甘·艾伊\",\"阿德里安·斯卡伯勒\",\"弗兰西斯·拉菲勒\",\"夏洛特·斯宾塞\",\"阿什莉·阿尔图斯\",\"戴维·坎恩\",\"波丽·坎普\",\"伊恩·皮里\",\"朱利安·布里奇\",\"马克·皮克林\",\"伊莎贝尔·艾伦\",\"娜塔莉亚·安吉尔·华莱士\",\"洛蒂·斯蒂尔\",\"马克·多诺万\",\"黛安·皮尔金顿\",\"诺尔玛·阿塔拉\",\"帕特里克·戈弗雷\",\"理查德·科德里\",\"基利安·唐纳利\",\"乔治·布莱顿\",\"休·斯金纳\",\"阿利斯泰尔·布拉默\",\"哈德利·弗雷泽\",\"林兹·黑特利\",\"杰玛·瓦德尔\",\"吉娜·贝克\",\"凯蒂·霍尔\",\"夏洛特·霍普\",\"艾拉·亨特\",\"安东尼娅·克拉克\",\"莎拉·弗林德\",\"朱莉·沃洛诺\",\"贝西·卡特\",\"Freya Parks\",\"乔尔·菲利莫尔\"],\"is_watched\":false},{\"rating\":[\"8.7\",\"45\"],\"rank\":60,\"cover_url\":\"https://img9.doubanio.com\\/view\\/photo\\/s_ratio_poster\\/public\\/p2797313535.jpg\",\"is_playable\":true,\"id\":\"1295865\",\"types\":[\"剧情\",\"爱情\",\"战争\",\"西部\"],\"regions\":[\"美国\"],\"title\":\"燃情岁月\",\"url\":\"https:\\/\\/movie.douban.com\\/subject\\/1295865\\/\",\"release_date\":\"1994-12-16\",\"actor_count\":27,\"vote_count\":301535,\"score\":\"8.7\",\"actors\":[\"布拉德·皮特\",\"安东尼·霍普金斯\",\"艾丹·奎因\",\"朱莉娅·奥蒙德\",\"亨利·托马斯\",\"卡琳娜·隆巴德\",\"坦图·卡丁诺\",\"高登·图托西斯\",\"克里斯蒂娜·皮克勒斯\",\"约翰·诺瓦克\",\"肯尼斯·威尔什\",\"尼格尔·本内特\",\"基根·麦金托什\",\"埃里克·约翰逊\",\"兰德尔·斯莱文\",\"大卫·卡耶\",\"查尔斯·安德烈\",\"肯·科齐格\",\"温妮·孔\",\"巴特熊\",\"格雷格·福西特\",\"加里·A·赫克\",\"马修·罗伯特·凯利\",\"Sekwan Auger\",\"道格·休斯\",\"比尔·道\",\"罗克珊·王\"],\"is_watched\":false}]\n"
     ]
    }
   ],
   "source": [
    "import requests\n",
    "\n",
    "url = 'https://movie.douban.com/j/chart/top_list'\n",
    "params = {\n",
    "    'type': 13,\n",
    "    'interval_id': '100:90',\n",
    "    'action': '',\n",
    "    'start': 40,\n",
    "    'limit': 20\n",
    "}\n",
    "headers = {\n",
    "    'User-Agent': 'Mozilla/5.0 (Windows NT 10.0; Win64; x64) AppleWebKit/537.36 (KHTML, like Gecko) Chrome/128.0.0.0 Safari/537.36 Edg/128.0.0.0'\n",
    "}\n",
    "response = requests.get(url = url, params = params, headers = headers)\n",
    "print(response.text)"
   ]
  },
  {
   "cell_type": "markdown",
   "id": "c73c4bc6-2d14-4c2a-b325-a68a0289c1ba",
   "metadata": {},
   "source": [
    "### 异步（Ajax）的POST请求的实现\n",
    "- 指定URL\n",
    "- 自定义携带参数\n",
    "- 自定义请求头\n",
    "#### 以KFC为例爬取餐厅位置信息"
   ]
  },
  {
   "cell_type": "code",
   "execution_count": 4,
   "id": "2610989d-4f76-4dca-8ecb-2abcf68711fc",
   "metadata": {
    "collapsed": true,
    "jupyter": {
     "outputs_hidden": true
    }
   },
   "outputs": [
    {
     "name": "stdout",
     "output_type": "stream",
     "text": [
      "{\"Table\":[{\"rowcount\":25}],\"Table1\":[{\"rownum\":1,\"storeName\":\"吴江运东\",\"addressDetail\":\"吴江经济开发区运东大道东侧江南奥斯卡5幢1层\",\"pro\":\"24小时,Wi-Fi,店内参观,礼品卡\",\"provinceName\":\"江苏省\",\"cityName\":\"苏州市\"},{\"rownum\":2,\"storeName\":\"盛泽西环路\",\"addressDetail\":\"吴江市盛泽镇西环路西侧欧尚超一层\",\"pro\":\"24小时,Wi-Fi,点唱机,店内参观,礼品卡\",\"provinceName\":\"江苏省\",\"cityName\":\"苏州市\"},{\"rownum\":3,\"storeName\":\"吴江汾湖\",\"addressDetail\":\"吴江市汾湖镇杭州路北侧368号华润超市一层\",\"pro\":\"24小时,Wi-Fi,点唱机,店内参观,礼品卡\",\"provinceName\":\"江苏省\",\"cityName\":\"苏州市\"},{\"rownum\":4,\"storeName\":\"松陵百润发\",\"addressDetail\":\"吴江市笠泽路117号恒森广场百润发\",\"pro\":\"24小时,Wi-Fi,礼品卡\",\"provinceName\":\"江苏省\",\"cityName\":\"苏州市\"},{\"rownum\":5,\"storeName\":\"吴江永康\",\"addressDetail\":\"吴江市松陵镇永康路68号\",\"pro\":\"Wi-Fi,礼品卡\",\"provinceName\":\"江苏省\",\"cityName\":\"苏州市\"},{\"rownum\":6,\"storeName\":\"盛泽市场\",\"addressDetail\":\"吴江市盛泽镇东方丝绸市场十字河西1层1区157号\",\"pro\":\"24小时,Wi-Fi,点唱机,店内参观,礼品卡\",\"provinceName\":\"江苏省\",\"cityName\":\"苏州市\"},{\"rownum\":7,\"storeName\":\"盛泽舜新\",\"addressDetail\":\"吴江市舜新中路27号大润发卖场一层\",\"pro\":\"Wi-Fi,点唱机,礼品卡\",\"provinceName\":\"江苏省\",\"cityName\":\"苏州市\"},{\"rownum\":8,\"storeName\":\"震泽\",\"addressDetail\":\"吴江市震泽镇镇南路1000号江南缘项目C区\",\"pro\":\"24小时,Wi-Fi,点唱机,店内参观,礼品卡\",\"provinceName\":\"江苏省\",\"cityName\":\"苏州市\"},{\"rownum\":9,\"storeName\":\"平望\",\"addressDetail\":\"吴江市平望镇通运路44号\",\"pro\":\"24小时,点唱机,店内参观,礼品卡\",\"provinceName\":\"江苏省\",\"cityName\":\"苏州市\"},{\"rownum\":10,\"storeName\":\"同里\",\"addressDetail\":\"吴江区同里镇同里景区南入口石牌楼东侧旅游集散中心一层\",\"pro\":\"24小时,Wi-Fi,点唱机,店内参观,礼品卡\",\"provinceName\":\"江苏省\",\"cityName\":\"苏州市\"}]}\n"
     ]
    }
   ],
   "source": [
    "import requests\n",
    "\n",
    "url = 'https://www.kfc.com.cn/kfccda/ashx/GetStoreList.ashx?op=keyword'\n",
    "data = {\n",
    "    'cname': '',\n",
    "    'pid': '',\n",
    "    'keyword': '吴江',\n",
    "    'pageIndex': '1',\n",
    "    'pageSize': '10'\n",
    "}\n",
    "headers = {\n",
    "    'User-Agent': 'Mozilla/5.0 (Windows NT 10.0; Win64; x64) AppleWebKit/537.36 (KHTML, like Gecko) Chrome/128.0.0.0 Safari/537.36 Edg/128.0.0.0'\n",
    "}\n",
    "response = requests.post(url = url, data = data, headers = headers)\n",
    "print(response.text)"
   ]
  },
  {
   "cell_type": "markdown",
   "id": "9edddefb-1431-4b52-b9ad-17a20786db7a",
   "metadata": {},
   "source": [
    "### 异步（Ajax）的GET请求的实现\n",
    "- 指定URL\n",
    "- 自定义携带参数\n",
    "- 自定义请求头\n",
    "#### 以搜狗知乎模块为例爬取在动态页面内的信息"
   ]
  },
  {
   "cell_type": "code",
   "execution_count": 14,
   "id": "0847f3e1-3d2d-47e5-9cb9-3f4883e3dc9d",
   "metadata": {},
   "outputs": [
    {
     "name": "stdin",
     "output_type": "stream",
     "text": [
      "What are you search?  顾桓源\n",
      "Please give me the start page number:  1\n",
      "Please give me the end page number:  3\n"
     ]
    },
    {
     "name": "stdout",
     "output_type": "stream",
     "text": [
      "Page 1 Save Success\n",
      "Page 2 Save Success\n",
      "Page 3 Save Success\n"
     ]
    }
   ],
   "source": [
    "import requests\n",
    "\n",
    "url = 'https://www.sogou.com/sogou'\n",
    "word = input('What are you search? ')\n",
    "start_page = int(input('Please give me the start page number: '))\n",
    "end_page = int(input('Please give me the end page number: '))\n",
    "headers = {\n",
    "    'User-Agent': 'Mozilla/5.0 (Windows NT 10.0; Win64; x64) AppleWebKit/537.36 (KHTML, like Gecko) Chrome/128.0.0.0 Safari/537.36 Edg/128.0.0.0'\n",
    "}\n",
    "\n",
    "for i in range(start_page, end_page + 1):  # 循环爬取所有页面信息 #  \n",
    "    params = {\n",
    "        'query': word,\n",
    "        'page': i,\n",
    "        'ie': 'UTF-8'\n",
    "    }\n",
    "    response = requests.get(url = url, params = params, headers = headers)\n",
    "    file_name = './Save_files/Sougou_' + word + '_page_' + str(i) + '.html'\n",
    "    with open(file_name, 'w', encoding = 'UTF-8') as fp:\n",
    "        fp.write(response.text)\n",
    "        print(f'Page {i} Save Success')"
   ]
  },
  {
   "cell_type": "markdown",
   "id": "12cafce7-6f32-4273-84a3-1da78de33d1b",
   "metadata": {},
   "source": [
    "### Session对象的应用\n",
    "- 可以实现requests对象的基本功能\n",
    "- 多用于自动存储并携带cookie对象\n",
    "- cookie：服务器端用于记录客户端状态信息\n",
    "#### 以网上车市为例爬取个人用户主页信息"
   ]
  },
  {
   "cell_type": "code",
   "execution_count": 91,
   "id": "dc07e70e-b1d8-47a0-a92e-b03dd3f132ac",
   "metadata": {},
   "outputs": [
    {
     "name": "stdout",
     "output_type": "stream",
     "text": [
      "Save Success\n"
     ]
    }
   ],
   "source": [
    "import requests\n",
    "\n",
    "session = requests.session()  # 创建session对象 #\n",
    "login_url = 'https://api.cheshi.com/services/common/api.php?api=login.Login'\n",
    "data = {\n",
    "    \"act\": \"login\",\n",
    "    \"mobile\": 18851915663,\n",
    "    \"source\": \"pc\",\n",
    "    \"password\": 212090123,\n",
    "    \"hold_time\": \"yes\"\n",
    "}\n",
    "headers = {\n",
    "    'User-Agent': 'Mozilla/5.0 (Windows NT 10.0; Win64; x64) AppleWebKit/537.36 (KHTML, like Gecko) Chrome/128.0.0.0 Safari/537.36 Edg/128.0.0.0'\n",
    "}\n",
    "login_response = session.post(url = login_url, data = data, headers = headers)  # 发送登录请求 并携带返回的cookie #\n",
    "url = 'https://my.cheshi.com/user/'  # 个人信息主页 #\n",
    "response = session.get(url = url, headers = headers)\n",
    "page_text = response.text\n",
    "with open('./Save_files/Cheshi_userinfo.html', 'w', encoding = 'UTF-8') as fp:\n",
    "    fp.write(page_text)\n",
    "    print('Save Success')"
   ]
  },
  {
   "cell_type": "markdown",
   "id": "187668f7-9caf-460a-ade6-2dab2f63f240",
   "metadata": {},
   "source": [
    "### IP地址代理\n",
    "- 适用于反爬机制和反反爬机制\n",
    "- 正向代理：代替客户端获取数据\n",
    "- 反向代理：代替服务端提供数据\n",
    "#### 以查询本地IP地址为例 通过代理改变IP地址"
   ]
  },
  {
   "cell_type": "code",
   "execution_count": 94,
   "id": "c8a65544-0c89-4a37-92e8-bbfabd528076",
   "metadata": {},
   "outputs": [
    {
     "name": "stdout",
     "output_type": "stream",
     "text": [
      "Save Success\n"
     ]
    }
   ],
   "source": [
    "import requests\n",
    "\n",
    "url = 'https://benjiip.com/'\n",
    "proxy = {\n",
    "    'https': '111.11.109.11:80'\n",
    "}\n",
    "headers = {\n",
    "    'User-Agent': 'Mozilla/5.0 (Windows NT 10.0; Win64; x64) AppleWebKit/537.36 (KHTML, like Gecko) Chrome/128.0.0.0 Safari/537.36 Edg/128.0.0.0'\n",
    "}\n",
    "response = requests.get(url = url, headers = headers, proxies = proxy)\n",
    "page_text = response.text\n",
    "with open('./Save_files/Ip.html', 'w', encoding = 'UTF-8') as fp:\n",
    "    fp.write(page_text)\n",
    "    print('Save Success')"
   ]
  },
  {
   "cell_type": "markdown",
   "id": "1d3f81ba-f5c8-4d9d-adb0-dc733b705f89",
   "metadata": {},
   "source": [
    "### 验证码的处理方式\n",
    "- 图形验证码\n",
    "  - 保存本地人工识别\n",
    "  - 云打码平台第三方服务\n",
    "  - 借助OCR识别库&PIL图像处理库\n",
    "- 点选，滑块验证码\n",
    "  - 借助第三方开源代码\n",
    "#### 以OCR识别库结合PIL图像处理库为例识别南京审计大学的图形验证码"
   ]
  },
  {
   "cell_type": "code",
   "id": "f29fd217-59b7-4dd4-ba06-8e591bb17952",
   "metadata": {
    "ExecuteTime": {
     "end_time": "2024-09-15T14:47:21.299007Z",
     "start_time": "2024-09-15T14:47:21.130922Z"
    }
   },
   "source": [
    "import requests\n",
    "from PIL import Image  # 用于读取图片 #\n",
    "import tesserocr\n",
    "\n",
    "url = 'http://sso.nau.edu.cn/sso/captcha.jpg'  # 图形验证码生成网址 #\n",
    "headers = {\n",
    "    'User-Agent': 'Mozilla/5.0 (Windows NT 10.0; Win64; x64) AppleWebKit/537.36 (KHTML, like Gecko) Chrome/128.0.0.0 Safari/537.36 Edg/128.0.0.0'\n",
    "}\n",
    "img_text = requests.get(url=url, headers=headers).content  # 爬取二进制图片信息 #\n",
    "with open('./Save_files/Auth_code.png', 'wb') as fp:  # 本地存储 #\n",
    "    fp.write(img_text)\n",
    "    print('Picture Save Success')\n",
    "\n",
    "image = Image.open(\"./Save_files/Auth_code.png\")  # 读取图片 #\n",
    "image = image.convert(\"L\")  # 传入L参数，代表将图片转为灰度图片 #\n",
    "width = image.size[0]  # 获取图片的宽度 #\n",
    "height = image.size[1]  # 获取图片的高度 #\n",
    "threshold = 150  # 设置阈值 #\n",
    "for h in range(0, height):\n",
    "    for w in range(0, width):\n",
    "        if image.getpixel((w, h)) < threshold:  # 遍历每一个像素点，并与阈值比较 #\n",
    "            image.putpixel((w, h), 0)  # 如果小于阈值，则像素点的值变成 0(黑色) #\n",
    "        else:\n",
    "            image.putpixel((w, h), 255)  # 如果大于阈值，则像素点的值变成 255(白色) #\n",
    "result = tesserocr.image_to_text(image)  # 识别图片文字内容 #\n",
    "print(result)"
   ],
   "outputs": [
    {
     "name": "stdout",
     "output_type": "stream",
     "text": [
      "Picture Save Success\n",
      "6900\n",
      "\n"
     ]
    }
   ],
   "execution_count": 3
  },
  {
   "metadata": {},
   "cell_type": "code",
   "outputs": [],
   "execution_count": null,
   "source": "",
   "id": "8a3449fd7c8cd1a"
  }
 ],
 "metadata": {
  "kernelspec": {
   "display_name": "Python 3 (ipykernel)",
   "language": "python",
   "name": "python3"
  },
  "language_info": {
   "codemirror_mode": {
    "name": "ipython",
    "version": 3
   },
   "file_extension": ".py",
   "mimetype": "text/x-python",
   "name": "python",
   "nbconvert_exporter": "python",
   "pygments_lexer": "ipython3",
   "version": "3.12.1"
  }
 },
 "nbformat": 4,
 "nbformat_minor": 5
}
